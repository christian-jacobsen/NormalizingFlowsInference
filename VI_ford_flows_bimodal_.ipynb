{
 "cells": [
  {
   "cell_type": "markdown",
   "id": "62bb5c38",
   "metadata": {},
   "source": [
    "# Variational Inference Methods\n",
    "\n",
    "This notebook is intended to compare three different variational inference methods for approximating complex posterior distributions. The three methods investigated are:\n",
    "\n",
    "- Fixed-form Variational Inference (FFVI)\n",
    "- Boosting Variational Inference (BVI)\n",
    "- Normalizing Flows for Variational Inference (NFVI)\n",
    "\n",
    "## Overview of Variational Inference\n",
    "\n",
    "## Boosting Variational Inference\n",
    "\n",
    "## Normalizing Flows"
   ]
  },
  {
   "cell_type": "code",
   "execution_count": 2,
   "id": "6cf11f95",
   "metadata": {},
   "outputs": [],
   "source": [
    "import torch\n",
    "import math\n",
    "import torch.nn as nn\n",
    "import numpy as np\n",
    "import matplotlib.pyplot as plt\n",
    "from scipy import special\n",
    "from scipy.optimize import minimize\n",
    "from torch.utils.data import DataLoader, TensorDataset\n",
    "import scipy"
   ]
  },
  {
   "cell_type": "markdown",
   "id": "9f1e302e",
   "metadata": {},
   "source": [
    "## Model\n",
    "\n",
    "Our model is as follows:\n",
    "\\begin{equation}\n",
    "y(\\theta;a) = \n",
    "\\begin{cases}\n",
    "  0,& \\; -a\\leq \\theta \\leq a \\\\\n",
    "  \\theta, & \\text{else}\n",
    "\\end{cases}\n",
    "\\end{equation}\n",
    "\n",
    "Where $\\theta \\sim p_D(\\theta)$ and $a \\geq 0$. \n",
    "\n",
    "### Data Generation\n",
    "$d$ data samples are generated in the form of $\\{ y_i \\}_{i=1}^d$ by generating $d$ samples $\\{\\theta_i \\}_{i=1}^d$ and computing $y_i$ for each sample. \n",
    "\n",
    "Here, we use $a = 1$ and $p_D(\\theta) = N(\\mu_D, \\sigma^2_D)$"
   ]
  },
  {
   "cell_type": "code",
   "execution_count": 124,
   "id": "234fa8a6",
   "metadata": {},
   "outputs": [],
   "source": [
    "# Define our model (a >= 0 is not checked)\n",
    "def model(theta):\n",
    "    a = 0.1\n",
    "    if ((theta <= a) and (theta >= -a)):\n",
    "        return 0\n",
    "    else:\n",
    "        return np.abs(theta)"
   ]
  },
  {
   "cell_type": "code",
   "execution_count": 150,
   "id": "7ff08446",
   "metadata": {},
   "outputs": [
    {
     "data": {
      "text/plain": [
       "(Text(0.5, 0, 'theta'), Text(0, 0.5, 'f'))"
      ]
     },
     "execution_count": 150,
     "metadata": {},
     "output_type": "execute_result"
    },
    {
     "data": {
      "image/png": "[encoded data removed]",
      "text/plain": [
       "<Figure size 432x288 with 2 Axes>"
      ]
     },
     "metadata": {
      "needs_background": "light"
     },
     "output_type": "display_data"
    },
    {
     "data": {
      "image/png": "[encoded data removed]",
      "text/plain": [
       "<Figure size 432x288 with 1 Axes>"
      ]
     },
     "metadata": {
      "needs_background": "light"
     },
     "output_type": "display_data"
    }
   ],
   "source": [
    "# Define the data generation parameters and generate data\n",
    "\n",
    "n_samples = 25\n",
    "\n",
    "mu_d = 0.5   # data generation mean\n",
    "var_d = 0.0  # data generation variance\n",
    "\n",
    "theta_d = np.random.normal(mu_d, np.sqrt(var_d), n_samples)\n",
    "y_d = np.zeros(np.shape(theta_d))\n",
    "\n",
    "var_xi = 0.25\n",
    "for i in range(n_samples):\n",
    "    y_d[i] = model(theta_d[i]) + np.random.normal(0,var_xi)\n",
    "\n",
    "plt.figure(1)\n",
    "plt.subplot(1,2,1)\n",
    "plt.plot(theta_d, '.'), plt.xlabel('sample'), plt.ylabel('theta')\n",
    "plt.subplot(1,2,2)\n",
    "plt.plot(y_d, '.'), plt.xlabel('sample'), plt.ylabel('y')\n",
    "\n",
    "theta_v = np.linspace(-3, 3, 1000)\n",
    "y_v = np.zeros(np.shape(theta_v))\n",
    "for i in range(1000):\n",
    "    y_v[i] = model(theta_v[i]) \n",
    "    \n",
    "plt.figure(2)\n",
    "plt.plot(theta_v, y_v)\n",
    "plt.xlabel('theta'), plt.ylabel('f')\n"
   ]
  },
  {
   "cell_type": "markdown",
   "id": "ccef1e13",
   "metadata": {},
   "source": [
    "### Likelihood Model\n",
    "\n",
    "We assume that all data is i.i.d and thus\n",
    "\\begin{equation}\n",
    "p(D|\\theta) = \\prod_{i=1}^d p(y_i|\\theta)\n",
    "\\end{equation}\n",
    "\n",
    "Where $p(y_i|\\theta) = N(y_i; y(\\theta), C_D)$ and $C_D$ is the covariance matrix of the data $\\{ y_i \\}_{i=1}^D$"
   ]
  },
  {
   "cell_type": "code",
   "execution_count": 151,
   "id": "aea32552",
   "metadata": {},
   "outputs": [],
   "source": [
    "def logLike(y_d, theta, model):\n",
    "    # y_d is the data of shape (d,)\n",
    "    # theta is a scalar [ p(D|theta) ]\n",
    "    # model is a previously defined function for the model\n",
    "    \n",
    "    # Function returns a quantity offset from the true log likelihood (but can be used for optimization purposes,\n",
    "      # and thus for variational inference methods)\n",
    "    \n",
    "    C_D = np.var(y_d)\n",
    "    s = 0\n",
    "    for i in range(np.shape(y_d)[0]):\n",
    "        m = model(theta)\n",
    "        s -= (y_d[i] - m)**2 / C_D\n",
    "        \n",
    "    return s\n",
    "\n",
    "def prior(theta):\n",
    "    return np.exp(-theta**2/2)/np.sqrt(2*np.pi)"
   ]
  },
  {
   "cell_type": "markdown",
   "id": "24997667",
   "metadata": {},
   "source": [
    "## Fixed-Form Variational Inference (FFVI)"
   ]
  },
  {
   "cell_type": "markdown",
   "id": "243b147d",
   "metadata": {},
   "source": [
    "We approximate the Bayesian posterior $p(\\theta|D)$ with a variational posterior $q(\\theta)$ of fixed-form. In this tutorial, we assume a Gaussian form on $q(\\theta)$ such that\n",
    "\\begin{equation}\n",
    "q(\\theta) = N(\\theta; \\mu_q, \\sigma_q^2)\n",
    "\\end{equation}\n",
    "\n",
    "We find the variational posterior of this form which is 'closest' to the Bayesian posterior. We define 'closeness' by using the KL divergence, or relative entropy. Yhe optimal variational posterior $q^*(\\theta) = N(\\mu_q^*, \\sigma_q^{*2})$ is found by solving the minimization problem\n",
    "\n",
    "\\begin{equation}\n",
    "\\mu_q^*, \\sigma_q^{*2} = \\text{argmin}_{\\mu_q, \\sigma_q^2} D_{KL}[q(\\theta)||p(\\theta|D)]\n",
    "\\end{equation}"
   ]
  },
  {
   "cell_type": "code",
   "execution_count": 152,
   "id": "278bcd31",
   "metadata": {},
   "outputs": [
    {
     "data": {
      "text/plain": [
       "[<matplotlib.lines.Line2D at 0x24630532880>]"
      ]
     },
     "execution_count": 152,
     "metadata": {},
     "output_type": "execute_result"
    },
    {
     "data": {
      "image/png": "[encoded data removed]",
      "text/plain": [
       "<Figure size 432x288 with 1 Axes>"
      ]
     },
     "metadata": {
      "needs_background": "light"
     },
     "output_type": "display_data"
    }
   ],
   "source": [
    "# integral (indefinite) of theta w.r.t. gaussian\n",
    "\n",
    "def int_1(mu, var, theta):\n",
    "    return -np.sqrt(var/(2*np.pi))*np.exp(-0.5*(theta-mu)**2/var) - 0.5*mu*scipy.special.erf((mu-theta)/np.sqrt(2*var))\n",
    "    \n",
    "# integral (indefinite) of theta^2 w.r.t. gaussian\n",
    "\n",
    "def int_2(mu, var, theta):\n",
    "    return -np.sqrt(var/(2*np.pi))*(theta+mu)*np.exp(-0.5*(theta-mu)**2/var) - 0.5*(var+mu**2)*scipy.special.erf((mu-theta)/np.sqrt(2*var))\n",
    "    \n",
    "\n",
    "# define the relative entropy computation\n",
    "\n",
    "def KL(mu, var, y_d):\n",
    "    # mu is mean of variational posterior\n",
    "    # var is variance of variational posterior\n",
    "    # y_d is data\n",
    "    \n",
    "    C_D = np.var(y_d)\n",
    "        \n",
    "    D = -np.log(np.sqrt(var)) # differential entropy of q(theta)\n",
    "    \n",
    "    D = D + 0.5*n_samples*( - int_2(mu,var,-1) - int_2(mu,var,1) )/C_D\n",
    "    D = D - np.sum(y_d)*( - int_1(mu,var,-1) - int_1(mu,var,1) )/C_D\n",
    "    \n",
    "    D = D + (0.5*var+0.5*mu**2) # (prior of N(0,1))\n",
    "    \n",
    "    return D\n",
    "\n",
    "def optim(p):\n",
    "    # input p[0] = mu\n",
    "    # input p[1] = log_var\n",
    "    if p[1]>0:\n",
    "        return KL(p[0], p[1], y_d)\n",
    "    else:\n",
    "        return 1e30\n",
    "\n",
    "# plot the KL surface with fixed variance\n",
    "var = .001\n",
    "mu = np.linspace(-2, 6, 1000)\n",
    "KL_v = np.zeros(np.shape(mu))\n",
    "\n",
    "\n",
    "for i in range(1000):\n",
    "    KL_v[i] = KL(mu[i], var, y_d)\n",
    "\n",
    "plt.figure(4)\n",
    "plt.plot(mu, KL_v)\n",
    "    "
   ]
  },
  {
   "cell_type": "code",
   "execution_count": 153,
   "id": "46dc49a5",
   "metadata": {},
   "outputs": [
    {
     "name": "stdout",
     "output_type": "stream",
     "text": [
      "Mean:  -1.226022603829772e+44\n",
      "Var:  2.01241617490548e+41\n"
     ]
    }
   ],
   "source": [
    "# Fixed-form variational inference\n",
    "\n",
    "p0 = [1.4, .01]\n",
    "res = minimize(optim, p0, method='nelder-mead')\n",
    "\n",
    "print(\"Mean: \", res.x[0])\n",
    "print(\"Var: \", res.x[1])"
   ]
  },
  {
   "cell_type": "code",
   "execution_count": 154,
   "id": "f88ff880",
   "metadata": {},
   "outputs": [
    {
     "data": {
      "text/plain": [
       "(Text(0.5, 0, 'theta'), Text(0, 0.5, 'p(theta)'))"
      ]
     },
     "execution_count": 154,
     "metadata": {},
     "output_type": "execute_result"
    },
    {
     "data": {
      "image/png": "[encoded data removed]",
      "text/plain": [
       "<Figure size 432x288 with 1 Axes>"
      ]
     },
     "metadata": {
      "needs_background": "light"
     },
     "output_type": "display_data"
    }
   ],
   "source": [
    "# plot the bayesian posterior vs the FFVI posterior\n",
    "\n",
    "theta_v = np.linspace(-1.5, 1.5, 1000)\n",
    "bayes_post_v = np.zeros(np.shape(theta_v))\n",
    "ffvi_post_v = np.zeros(np.shape(theta_v))\n",
    "for i in range(len(theta_v)):\n",
    "    bayes_post_v[i] = np.exp(logLike(y_d, theta_v[i], model))*prior(theta_v[i])\n",
    "    ffvi_post_v[i] = np.exp(-0.5*((theta_v[i]-res.x[0])**2/res.x[1]))/np.sqrt(2*np.pi*res.x[1])\n",
    "\n",
    "dtheta = theta_v[1]-theta_v[0]\n",
    "Z = np.sum(0.5*(bayes_post_v[:-1]+bayes_post_v[1:]))*dtheta\n",
    "\n",
    "bayes_post_v = bayes_post_v/Z # normalize\n",
    "    \n",
    "plt.figure(4)\n",
    "plt.plot(theta_v, bayes_post_v, label=\"Bayesian Posterior\")\n",
    "plt.plot(theta_v, ffvi_post_v, label=\"FFVI Posterior\")\n",
    "plt.plot(np.array([mu_d, mu_d]), np.array([0, np.max(bayes_post_v)]), 'k--', label = r'$\\theta^*$')\n",
    "plt.legend()\n",
    "plt.xlabel(\"theta\"), plt.ylabel(\"p(theta)\")\n"
   ]
  },
  {
   "cell_type": "markdown",
   "id": "a4df30cf",
   "metadata": {},
   "source": [
    "## Boosting Variational Inference\n",
    "\n",
    "In BVI, we iteratively refine an initial estimate of the Bayesian posterior by adding new components to the distribution to form a mixture of the specified base distributions. For example, an initial estimate of the Bayesian posterior is given by\n",
    "\\begin{equation}\n",
    "  q_0(\\theta)\n",
    "\\end{equation}\n",
    "This initial approximation can be assumed or perhaps computed using FFVI. The distribution is then iteratively refined by adding a new component to the distribution at each step:\n",
    "\\begin{equation}\n",
    "  q_t(\\theta) = (1-\\alpha_t)q_{t-1}(\\theta) + \\alpha_t h_t(\\theta)\n",
    "\\end{equation}\n",
    "Where $h_t$ is a distribution within the allowable class of distributions (e.g. normal) and $\\alpha_t$ is the relative weighting between the current mixture and the new mixture component. \n",
    "\n",
    "The goal is to minimize KL divergence iteratively. However, solving for both $h_t$ and $\\alpha_t$ at the same time is non-convex and unstable. Using a Gaussian family as the base class, $h_t$ is found by a laplace approximation where the mean $\\mu_t$ of $h_t$ is found to be\n",
    "\\begin{equation}\n",
    "\\mu_t = \\textrm{argmax}_{\\mu_t} \\log \\frac{p(D|\\theta)p(\\theta)}{q_{t-1}(\\theta)}\n",
    "\\end{equation}\n",
    "\n",
    "This process is described in more detail in: \"Boosting Variational Inference\" (Guo et al. 2017)\n",
    "\n"
   ]
  },
  {
   "cell_type": "code",
   "execution_count": 130,
   "id": "b38894f0",
   "metadata": {},
   "outputs": [],
   "source": [
    "# Define the target function to minimize for finding the mean (Laplace approx.)\n",
    "\n",
    "def mu_laplace(theta, mu_t, var_t, alpha_t, t):\n",
    "    logq = np.exp(-0.5*(mu_t[0]-theta)**2/var_t[0])/np.sqrt(2*np.pi*var_t[0])\n",
    "    for i in range(t):\n",
    "        logq = alpha_t[i+1]*np.exp(-0.5*(mu_t[i+1]-theta)**2/var_t[i+1])/np.sqrt(2*np.pi*var_t[i+1])+(1-alpha_t[i+1])*logq\n",
    "        \n",
    "    logq = np.log(logq+1e-38)\n",
    "    return logq - logLike(y_d, theta, model) - np.log(prior(theta))\n",
    "\n",
    "\n",
    "# Function for easier computing of quantities during SGD\n",
    "\n",
    "def gamma_t(mu_t, var_t, alpha_t, t, theta):\n",
    "    q = np.exp(-0.5*(mu_t[0]-theta)**2/var_t[0])/np.sqrt(2*np.pi*var_t[0])\n",
    "    for i in range(t):\n",
    "        q = alpha_t[i+1]*np.exp(-0.5*(mu_t[i+1]-theta)**2/var_t[i+1])/np.sqrt(2*np.pi*var_t[i+1])+(1-alpha_t[i+1])*q\n",
    "\n",
    "    h = np.exp(-0.5*(mu_t[t+1]-theta)**2/var_t[t+1])/np.sqrt(2*np.pi*var_t[t+1])\n",
    "    #if (t > 0):\n",
    "        #print(\"q: \", q)\n",
    "        #print(\"h: \", h)\n",
    "        #print(\"alpha: \", alpha_t[t+1])\n",
    "    return np.log((1-alpha_t[t+1])*q + alpha_t[t+1]*h + 1e-60) - logLike(y_d, theta, model) - np.log(prior(theta))\n",
    "\n",
    "\n",
    "# SGD for finding step size (alpha)\n",
    "\n",
    "def SGD_alpha(mu_t, var_t, alpha_t, t, b, tol, n):\n",
    "    # mu_t = list of means of components\n",
    "    # var_t = list of vars of components\n",
    "    # alpha_t = list of weights\n",
    "    # t = current iteration\n",
    "    # b = initial step size\n",
    "    # tol = convergence tolerence\n",
    "    # n = number of MC samples for expectation approximation\n",
    "    \n",
    "    alpha_new = 0\n",
    "    alpha_old = 2\n",
    "    alpha_t[t+1] = alpha_new # store the new alpha in vector\n",
    "    k = 0\n",
    "    \n",
    "    while np.abs(alpha_new - alpha_old) > tol:\n",
    "    \n",
    "        # draw samples from new component\n",
    "        theta_h = np.random.normal(mu_t[t+1], np.sqrt(var_t[t+1]), n) \n",
    "    \n",
    "        # draw samples from old component\n",
    "        theta_q = np.zeros(n)\n",
    "        for i in range(n):\n",
    "            partition = np.random.uniform(0,1,1)\n",
    "            for j in range(t+1):\n",
    "                if (partition <= alpha_t[j]*np.prod(1-alpha_t[j+1:t+1])):\n",
    "                    theta_q[i] = np.random.normal(mu_t[j], np.sqrt(var_t[j]))\n",
    "                    break\n",
    "    \n",
    "        # compute the gradient of KL \n",
    "        s = 0\n",
    "        for i in range(n):\n",
    "            s += gamma_t(mu_t, var_t, alpha_t, t, theta_h[i]) \\\n",
    "               - gamma_t(mu_t, var_t, alpha_t, t, theta_q[i])\n",
    "        \n",
    "        s = s / n\n",
    "        \n",
    "        k += 1 # increment the step number\n",
    "        alpha_old = alpha_new\n",
    "        alpha_new = alpha_old - b*s/k\n",
    "        \n",
    "        # bound the update\n",
    "        #alpha_new = np.max(np.min(alpha_new,1),0) \n",
    "        if alpha_new > 1:\n",
    "            alpha_new = 1\n",
    "        if alpha_new < 0:\n",
    "            alpha_new = 0\n",
    "            \n",
    "        alpha_t[t+1] = alpha_new\n",
    "        \n",
    "    return alpha_new\n",
    "    \n",
    "    \n",
    "    \n",
    "    \n",
    "    \n",
    "    "
   ]
  },
  {
   "cell_type": "code",
   "execution_count": 131,
   "id": "45410e5f",
   "metadata": {
    "scrolled": true
   },
   "outputs": [
    {
     "name": "stdout",
     "output_type": "stream",
     "text": [
      "Means:  [-9.97399640e+43 -3.73774414e-01 -1.01432064e+00 -1.01430813e+00]\n",
      "Vars:  [3.86765784e+41 2.28888041e-03 2.55365432e-05 2.55376829e-05]\n",
      "Alphas:  [1. 1. 0. 0.]\n"
     ]
    },
    {
     "name": "stderr",
     "output_type": "stream",
     "text": [
      "<ipython-input-130-bbb801f7c8ec>:24: RuntimeWarning: divide by zero encountered in log\n",
      "  return np.log((1-alpha_t[t+1])*q + alpha_t[t+1]*h + 1e-60) - logLike(y_d, theta, model) - np.log(prior(theta))\n"
     ]
    },
    {
     "data": {
      "text/plain": [
       "<Figure size 432x288 with 0 Axes>"
      ]
     },
     "metadata": {},
     "output_type": "display_data"
    }
   ],
   "source": [
    "# We can use the distribution found in FFVI as the initial approximation\n",
    "\n",
    "# set some parameters for SGD\n",
    "b = 5e-3\n",
    "tol = 1e-2\n",
    "n = 1\n",
    "\n",
    "T = 4 # number of iterations\n",
    "\n",
    "mu_t = np.zeros(T)\n",
    "mu_t[0] = res.x[0]\n",
    "var_t = np.zeros(T)\n",
    "var_t[0] = res.x[1]\n",
    "alpha_t = np.zeros(T)\n",
    "alpha_t[0] = 1\n",
    "\n",
    "dtheta = 1e-5 # for finite difference approximation of the Hessian\n",
    "\n",
    "plt.figure(9)\n",
    "\n",
    "for i in range(T-1):\n",
    "    #print(i)\n",
    "    \n",
    "    # first sample from the current distribution (gaussian mixture)\n",
    "    partition = np.random.uniform(0,1,1)\n",
    "    for j in range(i+1):\n",
    "        if (partition <= alpha_t[j]*np.prod(1-alpha_t[j+1:i+1])):\n",
    "            theta0 = np.random.normal(mu_t[j], np.sqrt(var_t[j]))\n",
    "            break\n",
    "    if i==0:\n",
    "        theta0 = -1.1\n",
    "    # now find the maximum discrepency measure as the mean of the next component in the mixture\n",
    "    res_boosting = minimize(mu_laplace, theta0, args=(mu_t, var_t, alpha_t, i), method='nelder-mead')\n",
    "    \n",
    "    # assign the new mean\n",
    "    mu_t[i+1] = res_boosting.x\n",
    "    \n",
    "    # find the variance of the component using the Hessian (second-derivative in 1D)\n",
    "    H = (-2*mu_laplace(mu_t[i+1], mu_t, var_t, alpha_t, i) \\\n",
    "         +mu_laplace(mu_t[i+1]+dtheta, mu_t, var_t, alpha_t, i) \\\n",
    "         +mu_laplace(mu_t[i+1]-dtheta, mu_t, var_t, alpha_t, i))/(dtheta**2)\n",
    "    \n",
    "    #th_v = np.linspace(mu_t[i+1] - 10*dtheta, mu_t[i+1]+10*dtheta, 100)\n",
    "    #h_v = np.zeros(np.shape(th_v))\n",
    "    #for k in range(len(th_v)):\n",
    "        #h_v[k] = mu_laplace(th_v[k], mu_t, var_t, alpha_t, i)\n",
    "    #plt.subplot(T-1, 1, i+1)\n",
    "    #plt.plot(th_v, h_v)\n",
    "    \n",
    "    # assign the computed variance\n",
    "    var_t[i+1] = 1/(2*H)\n",
    "    if var_t[i+1] < 1e-5:\n",
    "        var_t[i+1] = var_t[0] / 5\n",
    "    \n",
    "    # find the new weight\n",
    "    alpha_t[i+1] = SGD_alpha(mu_t, var_t, alpha_t, i, b, tol, n)\n",
    "    \n",
    "    \n",
    "\n",
    "print(\"Means: \", mu_t)\n",
    "print(\"Vars: \", var_t)\n",
    "print(\"Alphas: \", alpha_t)\n"
   ]
  },
  {
   "cell_type": "code",
   "execution_count": 132,
   "id": "24fb2520",
   "metadata": {},
   "outputs": [
    {
     "data": {
      "text/plain": [
       "(Text(0.5, 0, 'theta'), Text(0, 0.5, 'p(theta)'))"
      ]
     },
     "execution_count": 132,
     "metadata": {},
     "output_type": "execute_result"
    },
    {
     "data": {
      "image/png": "[encoded data removed]",
      "text/plain": [
       "<Figure size 432x288 with 1 Axes>"
      ]
     },
     "metadata": {
      "needs_background": "light"
     },
     "output_type": "display_data"
    }
   ],
   "source": [
    "# Now plot the new distribition and some statistics\n",
    "def compute_q(mu_t, var_t, alpha_t, theta):\n",
    "    q = np.exp(-0.5*(mu_t[0]-theta)**2/var_t[0])/np.sqrt(2*np.pi*var_t[0])\n",
    "    for i in range(len(mu_t)-1):\n",
    "        q = alpha_t[i+1]*np.exp(-0.5*(mu_t[i+1]-theta)**2/var_t[i+1])/np.sqrt(2*np.pi*var_t[i+1])+(1-alpha_t[i+1])*q\n",
    "    return q\n",
    "\n",
    "theta_v = np.linspace(-1.5, 1.5, 1000)\n",
    "bayes_post_v = np.zeros(np.shape(theta_v))\n",
    "ffvi_post_v = np.zeros(np.shape(theta_v))\n",
    "bvi_post_v = np.zeros(np.shape(theta_v))\n",
    "for i in range(len(theta_v)):\n",
    "    bayes_post_v[i] = np.exp(logLike(y_d, theta_v[i], model))*prior(theta_v[i])\n",
    "    ffvi_post_v[i] = np.exp(-0.5*((theta_v[i]-res.x[0])**2/res.x[1]))/np.sqrt(2*np.pi*res.x[1])\n",
    "    bvi_post_v[i] = compute_q(mu_t, var_t, alpha_t, theta_v[i])\n",
    "     \n",
    "dtheta = theta_v[1]-theta_v[0]\n",
    "Z = np.sum(0.5*(bayes_post_v[:-1]+bayes_post_v[1:]))*dtheta\n",
    "\n",
    "bayes_post_v = bayes_post_v/Z # normalize\n",
    "        \n",
    "plt.figure(4)\n",
    "plt.plot(theta_v, bayes_post_v, label=\"Bayesian Posterior\")\n",
    "plt.plot(theta_v, ffvi_post_v, label=\"FFVI Posterior\")\n",
    "plt.plot(theta_v, bvi_post_v, label=\"BVI Posterior\")\n",
    "plt.plot(np.array([mu_d, mu_d]), np.array([0, np.max(bayes_post_v)]), 'k--', label = r'$\\theta^*$')\n",
    "\n",
    "plt.legend()\n",
    "plt.xlabel(\"theta\"), plt.ylabel(\"p(theta)\")"
   ]
  },
  {
   "cell_type": "markdown",
   "id": "f808fcdf",
   "metadata": {},
   "source": [
    "## Normalizing Flows\n",
    "\n",
    "\n"
   ]
  },
  {
   "cell_type": "code",
   "execution_count": 134,
   "id": "86ac9d6f",
   "metadata": {},
   "outputs": [],
   "source": [
    "# we first create the base inference network\n",
    "\n",
    "class encoder(nn.Sequential):\n",
    "    def __init__(self, layers, nodes, act):\n",
    "        super(encoder, self).__init__()\n",
    "        \n",
    "        self.add_module('full_conn0', nn.Linear(1, nodes))\n",
    "        self.add_module('act0', act)\n",
    "        for i in range(layers-1):\n",
    "            self.add_module('full_conn%d'%(i+1), nn.Linear(nodes, nodes))\n",
    "            self.add_module('act%d'%(i+1), act)\n",
    "\n",
    "        \n",
    "        self.add_module('full_conn%d'%(layers), nn.Linear(nodes, 1))\n",
    "\n",
    "# now the decoding network (mirrors the encoder)\n",
    "\n",
    "class decoder(nn.Sequential):\n",
    "    def __init__(self, layers, nodes, act):\n",
    "        super(decoder, self).__init__()\n",
    "        \n",
    "        self.add_module('full_conn0', nn.Linear(1, nodes))\n",
    "        self.add_module('act0', act)\n",
    "        for i in range(layers-1):\n",
    "            self.add_module('full_conn%d'%(i+1), nn.Linear(nodes, nodes))\n",
    "            self.add_module('act%d'%(i+1), act)\n",
    "\n",
    "        \n",
    "        self.add_module('full_conn%d'%(layers), nn.Linear(nodes, 1))\n",
    "    \n",
    "\n",
    "# now define the flow layers\n",
    "\n",
    "class PlanarFlow(nn.Module):\n",
    "    def __init__(self, D):\n",
    "        super().__init__()\n",
    "        act = torch.tanh\n",
    "        self.D = D\n",
    "        self.w = nn.Parameter(torch.empty(D))\n",
    "        self.b = nn.Parameter(torch.empty(1))\n",
    "        self.u = nn.Parameter(torch.empty(D))\n",
    "        self.act = act\n",
    "        self.act_deriv = lambda x: 1 - torch.tanh(x)**2\n",
    "        \n",
    "        nn.init.normal_(self.w)\n",
    "        nn.init.normal_(self.u)\n",
    "        nn.init.normal_(self.b)\n",
    "        \n",
    "    def forward(self, z):\n",
    "        dot = torch.sum(self.w*self.u)\n",
    "        u = self.u + (torch.log(1+torch.exp(dot))-1-dot)*self.w/torch.sum(self.w**2) \n",
    "        lin = (z @ self.w + self.b).unsqueeze(1)\n",
    "        f = z + u * self.act(lin)\n",
    "        phi = self.act_deriv(lin) * self.w\n",
    "        log_det = torch.log(torch.abs(1+phi@u))\n",
    "        \n",
    "        return f, log_det\n",
    "\n",
    "class RadialFlow(nn.Module):\n",
    "    def __init__(self, D):\n",
    "        super().__init__()\n",
    "        \n",
    "        self.D = D\n",
    "        self.z0 = nn.Parameter(torch.empty(D))\n",
    "        self.beta = nn.Parameter(torch.empty(1))\n",
    "        self.alpha = nn.Parameter(torch.empty(1))\n",
    "        \n",
    "        nn.init.normal_(self.z0)\n",
    "        nn.init.normal_(self.alpha)\n",
    "        nn.init.normal_(self.beta)\n",
    "        \n",
    "    def forward(self, z):\n",
    "        beta = torch.log(1+torch.exp(self.beta)) - torch.abs(self.alpha) # to ensure layer is invertible\n",
    "        r = torch.linalg.vector_norm(z - self.z0, dim = 1)\n",
    "\n",
    "        h = beta / (torch.abs(self.alpha) + r)\n",
    "        h_prime = -beta * r / (torch.abs(self.alpha)+r) ** 2\n",
    "        f = z + h.unsqueeze(1)*(z-self.z0)\n",
    "\n",
    "        log_det = (self.D-1) * torch.log(1+h) \\\n",
    "                  + torch.log(1+h+h_prime)       \n",
    "        return f, log_det \n",
    "    \n",
    "    \n",
    "class TrueDecoder(nn.Module):\n",
    "    def __init__(self):\n",
    "        super().__init__()\n",
    "        \n",
    "    def forward(self, z):\n",
    "        a = 0.1\n",
    "        z1 = z + 0.\n",
    "        z2 = z + 0.\n",
    "        z1[z1<a] = 0\n",
    "        z2[z2>-a] = 0\n",
    "        z2 = -z2\n",
    "        return z1+z2"
   ]
  },
  {
   "cell_type": "code",
   "execution_count": 169,
   "id": "429451df",
   "metadata": {},
   "outputs": [],
   "source": [
    "# now we can define our model\n",
    "\n",
    "class NormalizingFlowVI(nn.Module):\n",
    "    def __init__(self, layers, nodes, flow_layers, act=nn.ReLU()):\n",
    "        super().__init__()\n",
    "        \n",
    "        self.encoder_mean = encoder(layers, nodes, act)\n",
    "        self.encoder_logvar = encoder(layers, nodes, act)\n",
    "        self.decoder_mean = TrueDecoder() # decoder(layers, nodes, act)\n",
    "        self.decoder_logvar = nn.Parameter(torch.empty(1))\n",
    "        \n",
    "        self.flow = nn.Sequential()\n",
    "        #self.flow.add_module('identity', nn.Identity())\n",
    "        for i in range(flow_layers):\n",
    "            self.flow.add_module('flow%d'%(i+1), PlanarFlow(1))\n",
    "    \n",
    "    def forward(self, x):\n",
    "\n",
    "        batch_size = x.shape[0]\n",
    "        zmu, zlogvar = self.encoder_mean(x), self.encoder_logvar(x)\n",
    "        sigma = torch.exp(0.5*zlogvar)\n",
    "        z = self._reparameterize(zmu, zlogvar)\n",
    "        z0 = z.clone()\n",
    "        \n",
    "        log_prob_z0 = torch.sum( \\\n",
    "                        -0.5 * torch.log(torch.tensor(2*math.pi)) - \\\n",
    "                            zlogvar - 0.5 * ((z-zmu)/sigma) ** 2, axis = 1)\n",
    "        \n",
    "        log_det = torch.zeros((batch_size,))\n",
    "        for layer in self.flow:\n",
    "            z, ld = layer(z)\n",
    "            log_det += ld\n",
    "         \n",
    "        log_prob_zk = torch.sum(-0.5 * (torch.log(torch.tensor(2*math.pi)) + z**2), axis = 1)\n",
    "        \n",
    "        xmu = self.decoder_mean(z)\n",
    "        \n",
    "        log_px_zk = torch.sum(self.gaussian_log_prob(x, xmu, self.decoder_logvar), 1)\n",
    "        \n",
    "        return z0, zmu, zlogvar, z, xmu, self.decoder_logvar, \\\n",
    "               log_prob_z0, log_det, log_prob_zk, log_px_zk \n",
    "    \n",
    "    def _reparameterize(self, mu, logvar):\n",
    "        std = logvar.mul(0.5).exp_()\n",
    "        eps = torch.randn(*mu.size()).type_as(mu)\n",
    "        return mu + std * eps\n",
    "    \n",
    "    def gaussian_log_prob(self, x, mu, logvar):\n",
    "        return -0.5*(math.log(2*math.pi) + logvar + (x-mu)**2/torch.exp(logvar))\n",
    "    \n",
    "class Flow(nn.Module):\n",
    "    def __init__(self, flow_layers, act=nn.ReLU()):\n",
    "        super().__init__()\n",
    "        \n",
    "        self.flow = nn.Sequential()\n",
    "        #self.flow.add_module('identity', nn.Identity())\n",
    "        for i in range(flow_layers):\n",
    "            #if np.mod(i, 2)==0:\n",
    "            self.flow.add_module('flow%d'%(i+1), RadialFlow(1))\n",
    "            #else:\n",
    "            #self.flow.add_module('flow%d'%(i+1), PlanarFlow(1))\n",
    "\n",
    "    \n",
    "    def forward(self, zmu, zlogvar):\n",
    "        batch_size = zmu.shape[0]\n",
    "        sigma = torch.exp(0.5*zlogvar)\n",
    "        z = self._reparameterize(zmu, zlogvar)\n",
    "        z0 = z.clone()\n",
    "        \n",
    "        log_prob_z0 = torch.sum( \\\n",
    "                        -0.5 * torch.log(torch.tensor(2*math.pi)) - \\\n",
    "                            zlogvar - 0.5 * ((z-zmu)/sigma) ** 2, axis = 1)\n",
    "        \n",
    "        log_det = torch.zeros((batch_size,))\n",
    "        for layer in self.flow:\n",
    "            z, ld = layer(z)\n",
    "            log_det += ld\n",
    "         \n",
    "        log_prob_zk = torch.sum(-0.5 * (torch.log(torch.tensor(2*math.pi)) + z**2), axis = 1) # prior of N(0,1)\n",
    "        \n",
    "        return z0, zmu, zlogvar, z, \\\n",
    "               log_prob_z0, log_det, log_prob_zk\n",
    "    \n",
    "    def _reparameterize(self, mu, logvar):\n",
    "        std = logvar.mul(0.5).exp_()\n",
    "        eps = torch.randn(*mu.size()).type_as(mu)\n",
    "        return mu + std * eps\n",
    "    \n",
    "    def gaussian_log_prob(self, x, mu, logvar):\n",
    "        return -0.5*(math.log(2*math.pi) + logvar + (x-mu)**2/torch.exp(logvar))"
   ]
  },
  {
   "cell_type": "code",
   "execution_count": 170,
   "id": "53c3b76e",
   "metadata": {},
   "outputs": [
    {
     "name": "stdout",
     "output_type": "stream",
     "text": [
      "Epoch:  0\n",
      "Loss:  27.870493\n",
      "Epoch:  800\n",
      "Loss:  2.3250616\n",
      "Epoch:  1600\n",
      "Loss:  2.1076128\n",
      "Epoch:  2400\n",
      "Loss:  1.5207745\n",
      "Epoch:  3200\n",
      "Loss:  1.8513943\n",
      "Epoch:  4000\n",
      "Loss:  1.9824498\n",
      "Epoch:  4800\n",
      "Loss:  2.179053\n",
      "Epoch:  5600\n",
      "Loss:  1.4325082\n",
      "Epoch:  6400\n",
      "Loss:  1.9236472\n",
      "Epoch:  7200\n",
      "Loss:  2.0239108\n",
      "Epoch:  8000\n",
      "Loss:  1.6983938\n",
      "Epoch:  8800\n",
      "Loss:  1.7053025\n",
      "Epoch:  9600\n",
      "Loss:  1.7078607\n",
      "Epoch:  10400\n",
      "Loss:  1.8755089\n",
      "Epoch:  11200\n",
      "Loss:  1.7424343\n",
      "Epoch:  12000\n",
      "Loss:  1.6574492\n",
      "Epoch:  12800\n",
      "Loss:  1.6817613\n",
      "Epoch:  13600\n",
      "Loss:  1.8149045\n",
      "Epoch:  14400\n",
      "Loss:  1.9182489\n",
      "Epoch:  15200\n",
      "Loss:  1.8568769\n",
      "Epoch:  16000\n",
      "Loss:  1.9259534\n",
      "Epoch:  16800\n",
      "Loss:  1.6630502\n",
      "Epoch:  17600\n",
      "Loss:  1.4620712\n",
      "Epoch:  18400\n",
      "Loss:  1.716154\n",
      "Epoch:  19200\n",
      "Loss:  1.8195146\n"
     ]
    }
   ],
   "source": [
    "# now load the data and train the model\n",
    "\n",
    "flow_layers = 100\n",
    "\n",
    "zmu = 0\n",
    "zlogvar = 1\n",
    "\n",
    "C_D = np.var(y_d)\n",
    "\n",
    "batch_size = n_samples // 1\n",
    "epochs = 20000\n",
    "\n",
    "ForwardModel = TrueDecoder()\n",
    "\n",
    "# process the data\n",
    "dataset = TensorDataset(torch.tensor(theta_d).unsqueeze(1).float(), \\\n",
    "                        torch.tensor(y_d).unsqueeze(1).float())\n",
    "data_loader = DataLoader(dataset, batch_size=batch_size, shuffle=True)\n",
    "\n",
    "# initialize the model and optimizer\n",
    "NF = Flow(flow_layers)\n",
    "optimizer = torch.optim.Adam(NF.parameters(), lr=0.0003)\n",
    "\n",
    "# initialize loss list\n",
    "loss_v = np.zeros((epochs,))\n",
    "NF.train()\n",
    "# train\n",
    "for epoch in range(epochs):\n",
    "    for n, (_, y) in enumerate(data_loader):\n",
    "        b = y.shape[0]\n",
    "        \n",
    "        NF.zero_grad()\n",
    "        zMu = zmu*torch.ones((b,1))\n",
    "        zLV = zlogvar*torch.ones((b,1))\n",
    "        _,_,_,z, lpz0, ld, lpzk = NF.forward(zMu, zLV) \n",
    "        \n",
    "        y_h = ForwardModel(z)\n",
    "        lr = torch.sum(-0.5*(math.log(2*math.pi) + C_D + (y_h-y)**2/C_D), 1)\n",
    "        \n",
    "        loss = torch.mean(lpz0 - lpzk - ld - lr)\n",
    "        #print(np.shape(lpz0-lpzk-ld-lr))\n",
    "        \n",
    "        loss.backward()\n",
    "        optimizer.step()\n",
    "        \n",
    "    loss_v[epoch] = loss.detach().numpy()\n",
    "        \n",
    "    if np.mod(epoch, epochs//25)==0:\n",
    "        print('Epoch: ', epoch)\n",
    "        print('Loss: ', loss.detach().numpy())\n",
    "        #print('lpz0: ', lpz0)\n",
    "        #print('ld: ', ld)\n",
    "        #print('lpzk: ', lpzk)\n",
    "        #print('lr: ', lr)\n",
    "    \n",
    "    \n",
    "    \n"
   ]
  },
  {
   "cell_type": "code",
   "execution_count": 171,
   "id": "3635d247",
   "metadata": {
    "scrolled": false
   },
   "outputs": [
    {
     "name": "stdout",
     "output_type": "stream",
     "text": [
      "KL:  1.4682812690734863\n",
      "Learned Model:  Flow(\n",
      "  (flow): Sequential(\n",
      "    (flow1): RadialFlow()\n",
      "    (flow2): RadialFlow()\n",
      "    (flow3): RadialFlow()\n",
      "    (flow4): RadialFlow()\n",
      "    (flow5): RadialFlow()\n",
      "    (flow6): RadialFlow()\n",
      "    (flow7): RadialFlow()\n",
      "    (flow8): RadialFlow()\n",
      "    (flow9): RadialFlow()\n",
      "    (flow10): RadialFlow()\n",
      "    (flow11): RadialFlow()\n",
      "    (flow12): RadialFlow()\n",
      "    (flow13): RadialFlow()\n",
      "    (flow14): RadialFlow()\n",
      "    (flow15): RadialFlow()\n",
      "    (flow16): RadialFlow()\n",
      "    (flow17): RadialFlow()\n",
      "    (flow18): RadialFlow()\n",
      "    (flow19): RadialFlow()\n",
      "    (flow20): RadialFlow()\n",
      "    (flow21): RadialFlow()\n",
      "    (flow22): RadialFlow()\n",
      "    (flow23): RadialFlow()\n",
      "    (flow24): RadialFlow()\n",
      "    (flow25): RadialFlow()\n",
      "    (flow26): RadialFlow()\n",
      "    (flow27): RadialFlow()\n",
      "    (flow28): RadialFlow()\n",
      "    (flow29): RadialFlow()\n",
      "    (flow30): RadialFlow()\n",
      "    (flow31): RadialFlow()\n",
      "    (flow32): RadialFlow()\n",
      "    (flow33): RadialFlow()\n",
      "    (flow34): RadialFlow()\n",
      "    (flow35): RadialFlow()\n",
      "    (flow36): RadialFlow()\n",
      "    (flow37): RadialFlow()\n",
      "    (flow38): RadialFlow()\n",
      "    (flow39): RadialFlow()\n",
      "    (flow40): RadialFlow()\n",
      "    (flow41): RadialFlow()\n",
      "    (flow42): RadialFlow()\n",
      "    (flow43): RadialFlow()\n",
      "    (flow44): RadialFlow()\n",
      "    (flow45): RadialFlow()\n",
      "    (flow46): RadialFlow()\n",
      "    (flow47): RadialFlow()\n",
      "    (flow48): RadialFlow()\n",
      "    (flow49): RadialFlow()\n",
      "    (flow50): RadialFlow()\n",
      "    (flow51): RadialFlow()\n",
      "    (flow52): RadialFlow()\n",
      "    (flow53): RadialFlow()\n",
      "    (flow54): RadialFlow()\n",
      "    (flow55): RadialFlow()\n",
      "    (flow56): RadialFlow()\n",
      "    (flow57): RadialFlow()\n",
      "    (flow58): RadialFlow()\n",
      "    (flow59): RadialFlow()\n",
      "    (flow60): RadialFlow()\n",
      "    (flow61): RadialFlow()\n",
      "    (flow62): RadialFlow()\n",
      "    (flow63): RadialFlow()\n",
      "    (flow64): RadialFlow()\n",
      "    (flow65): RadialFlow()\n",
      "    (flow66): RadialFlow()\n",
      "    (flow67): RadialFlow()\n",
      "    (flow68): RadialFlow()\n",
      "    (flow69): RadialFlow()\n",
      "    (flow70): RadialFlow()\n",
      "    (flow71): RadialFlow()\n",
      "    (flow72): RadialFlow()\n",
      "    (flow73): RadialFlow()\n",
      "    (flow74): RadialFlow()\n",
      "    (flow75): RadialFlow()\n",
      "    (flow76): RadialFlow()\n",
      "    (flow77): RadialFlow()\n",
      "    (flow78): RadialFlow()\n",
      "    (flow79): RadialFlow()\n",
      "    (flow80): RadialFlow()\n",
      "    (flow81): RadialFlow()\n",
      "    (flow82): RadialFlow()\n",
      "    (flow83): RadialFlow()\n",
      "    (flow84): RadialFlow()\n",
      "    (flow85): RadialFlow()\n",
      "    (flow86): RadialFlow()\n",
      "    (flow87): RadialFlow()\n",
      "    (flow88): RadialFlow()\n",
      "    (flow89): RadialFlow()\n",
      "    (flow90): RadialFlow()\n",
      "    (flow91): RadialFlow()\n",
      "    (flow92): RadialFlow()\n",
      "    (flow93): RadialFlow()\n",
      "    (flow94): RadialFlow()\n",
      "    (flow95): RadialFlow()\n",
      "    (flow96): RadialFlow()\n",
      "    (flow97): RadialFlow()\n",
      "    (flow98): RadialFlow()\n",
      "    (flow99): RadialFlow()\n",
      "    (flow100): RadialFlow()\n",
      "  )\n",
      ")\n"
     ]
    },
    {
     "data": {
      "image/png": "[encoded data removed]",
      "text/plain": [
       "<Figure size 432x288 with 1 Axes>"
      ]
     },
     "metadata": {
      "needs_background": "light"
     },
     "output_type": "display_data"
    },
    {
     "data": {
      "image/png": "[encoded data removed]",
      "text/plain": [
       "<Figure size 432x288 with 1 Axes>"
      ]
     },
     "metadata": {
      "needs_background": "light"
     },
     "output_type": "display_data"
    },
    {
     "data": {
      "image/png": "[encoded data removed]",
      "text/plain": [
       "<Figure size 432x288 with 1 Axes>"
      ]
     },
     "metadata": {
      "needs_background": "light"
     },
     "output_type": "display_data"
    }
   ],
   "source": [
    "M = 1000\n",
    "zMu = 0*torch.ones((M,1))\n",
    "zLV = 1*torch.ones((M,1))\n",
    "_,_,_,z,_,_,_ = NF.forward(zMu, zLV)\n",
    "\n",
    "y_out = ForwardModel(z)\n",
    "y_out = y_out.detach().numpy()\n",
    "plt.figure(10)\n",
    "plt.plot(z[:,0].detach().numpy(), '.')\n",
    "plt.xlabel('sample')\n",
    "plt.ylabel('z_K')\n",
    "plt.figure(1)\n",
    "plt.plot(y_out[:,0],'.')\n",
    "plt.xlabel('sample')\n",
    "plt.ylabel('f_1(z_K)')\n",
    "plt.figure(2)\n",
    "plt.plot(loss_v)\n",
    "plt.xlabel('epoch')\n",
    "plt.ylabel('Loss')\n",
    "print(\"KL: \", loss_v[-1])\n",
    "print(\"Learned Model: \", NF)"
   ]
  },
  {
   "cell_type": "code",
   "execution_count": 172,
   "id": "a1940469",
   "metadata": {},
   "outputs": [
    {
     "data": {
      "text/plain": [
       "<matplotlib.legend.Legend at 0x246304100a0>"
      ]
     },
     "execution_count": 172,
     "metadata": {},
     "output_type": "execute_result"
    },
    {
     "data": {
      "image/png": "[encoded data removed]",
      "text/plain": [
       "<Figure size 432x288 with 1 Axes>"
      ]
     },
     "metadata": {
      "needs_background": "light"
     },
     "output_type": "display_data"
    },
    {
     "data": {
      "image/png": "[encoded data removed]",
      "text/plain": [
       "<Figure size 432x288 with 1 Axes>"
      ]
     },
     "metadata": {
      "needs_background": "light"
     },
     "output_type": "display_data"
    }
   ],
   "source": [
    "n_s = 1000\n",
    "z_eval = np.linspace(-3.5, 3.5, n_s)\n",
    "z_eval_bayes = np.linspace(-1.5, 1.5, n_s)\n",
    "z_eval_torch = torch.Tensor(z_eval)\n",
    "zmu0 = 0*torch.ones((1,))\n",
    "zlogvar0 = 1*torch.ones((1,))\n",
    "sigma = torch.exp(0.5*zlogvar0)\n",
    "\n",
    "log_prob_z0 = 0\n",
    "\n",
    "zprob = np.zeros(np.shape(z_eval))\n",
    "bayes_post_v = np.zeros(np.shape(z_eval))\n",
    "zk = np.zeros(np.shape(z_eval))\n",
    "for i in range(len(z_eval)):\n",
    "    z = torch.tensor(z_eval[i]).reshape(1,1).float()\n",
    "    log_prob_z0 = -0.5 * torch.log(torch.tensor(2*math.pi)) - \\\n",
    "                            0.5*zlogvar0 - 0.5 * ((z_eval[i]-zmu0)/sigma) ** 2\n",
    "        \n",
    "    log_det = torch.zeros((1,))\n",
    "    for layer in NF.flow:\n",
    "        z, ld = layer(z+0.)\n",
    "        log_det += ld\n",
    "    zk[i] = z\n",
    "    zprob[i] = (torch.sum(log_prob_z0 - log_det).detach().numpy())\n",
    "    bayes_post_v[i] = np.exp(logLike(y_d, z_eval_bayes[i], model))*prior(z_eval_bayes[i])\n",
    "    \n",
    "dtheta = z_eval_bayes[1]-z_eval_bayes[0]\n",
    "Z = np.sum(0.5*(bayes_post_v[:-1]+bayes_post_v[1:]))*dtheta\n",
    "\n",
    "bayes_post_v = bayes_post_v/Z # normalize\n",
    "            \n",
    "# we now sort the NF output\n",
    "sort_inds = np.argsort(zk)\n",
    "zk = zk[sort_inds]\n",
    "zprob = zprob[sort_inds]\n",
    "    \n",
    "# now normalize the posterior (not log posterior)\n",
    "nf_post = np.exp(zprob-3.00e1)\n",
    "Z = np.sum(0.5*(nf_post[:-1]+nf_post[1:])*np.diff(zk))\n",
    "nf_post = nf_post/Z\n",
    "\n",
    "# clip the output for better plotting\n",
    "nf_post[nf_post > 3.0*np.max(bayes_post_v)] = 3.0*np.max(bayes_post_v)\n",
    "\n",
    "plt.figure(1)\n",
    "plt.plot(zk, zprob)\n",
    "plt.figure(2)\n",
    "plt.plot(z_eval_bayes, bayes_post_v, label=\"Bayesian Posterior\")\n",
    "plt.plot(zk, nf_post, label=\"NF Posterior\")\n",
    "plt.plot(np.array([mu_d, mu_d]), np.array([0, np.max(bayes_post_v)]), 'k--', label = r'$\\theta^*$')\n",
    "\n",
    "\n",
    "plt.legend()\n",
    "\n"
   ]
  },
  {
   "cell_type": "code",
   "execution_count": null,
   "id": "1b7a18bc",
   "metadata": {},
   "outputs": [],
   "source": []
  },
  {
   "cell_type": "code",
   "execution_count": null,
   "id": "8dc6ef75",
   "metadata": {},
   "outputs": [],
   "source": []
  }
 ],
 "metadata": {
  "kernelspec": {
   "display_name": "Python 3",
   "language": "python",
   "name": "python3"
  },
  "language_info": {
   "codemirror_mode": {
    "name": "ipython",
    "version": 3
   },
   "file_extension": ".py",
   "mimetype": "text/x-python",
   "name": "python",
   "nbconvert_exporter": "python",
   "pygments_lexer": "ipython3",
   "version": "3.8.8"
  }
 },
 "nbformat": 4,
 "nbformat_minor": 5
}
