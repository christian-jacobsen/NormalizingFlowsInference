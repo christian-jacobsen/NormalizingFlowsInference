{
 "cells": [
  {
   "cell_type": "markdown",
   "metadata": {},
   "source": [
    "# Normalizing Flows\n",
    "\n",
    "This notebook is intended to investigate the representative power of normalizing flows. Any distribution can be approximated using normalizing flows. Here, we will investigate how well normalizing flows can represent difficult ditributions such as the banana distribution and multimodal distributions with complex correlations. For ease of visualization, only 2d distributions will be investigated here. \n",
    "\n",
    "\n",
    "## Forward model\n",
    "\n",
    "Here we use normalizing flows to approximate the posterior for our forward model"
   ]
  },
  {
   "cell_type": "code",
   "execution_count": 1,
   "metadata": {},
   "outputs": [
    {
     "ename": "ModuleNotFoundError",
     "evalue": "No module named 'torch'",
     "output_type": "error",
     "traceback": [
      "\u001b[0;31m---------------------------------------------------------------------------\u001b[0m",
      "\u001b[0;31mModuleNotFoundError\u001b[0m                       Traceback (most recent call last)",
      "\u001b[0;32m<ipython-input-1-bdc3da418eb5>\u001b[0m in \u001b[0;36m<module>\u001b[0;34m\u001b[0m\n\u001b[0;32m----> 1\u001b[0;31m \u001b[0;32mimport\u001b[0m \u001b[0mtorch\u001b[0m\u001b[0;34m\u001b[0m\u001b[0;34m\u001b[0m\u001b[0m\n\u001b[0m\u001b[1;32m      2\u001b[0m \u001b[0;32mimport\u001b[0m \u001b[0mmath\u001b[0m\u001b[0;34m\u001b[0m\u001b[0;34m\u001b[0m\u001b[0m\n\u001b[1;32m      3\u001b[0m \u001b[0;32mimport\u001b[0m \u001b[0mtorch\u001b[0m\u001b[0;34m.\u001b[0m\u001b[0mnn\u001b[0m \u001b[0;32mas\u001b[0m \u001b[0mnn\u001b[0m\u001b[0;34m\u001b[0m\u001b[0;34m\u001b[0m\u001b[0m\n\u001b[1;32m      4\u001b[0m \u001b[0;32mimport\u001b[0m \u001b[0mnumpy\u001b[0m \u001b[0;32mas\u001b[0m \u001b[0mnp\u001b[0m\u001b[0;34m\u001b[0m\u001b[0;34m\u001b[0m\u001b[0m\n\u001b[1;32m      5\u001b[0m \u001b[0;32mimport\u001b[0m \u001b[0mmatplotlib\u001b[0m\u001b[0;34m.\u001b[0m\u001b[0mpyplot\u001b[0m \u001b[0;32mas\u001b[0m \u001b[0mplt\u001b[0m\u001b[0;34m\u001b[0m\u001b[0;34m\u001b[0m\u001b[0m\n",
      "\u001b[0;31mModuleNotFoundError\u001b[0m: No module named 'torch'"
     ]
    }
   ],
   "source": [
    "import torch\n",
    "import math\n",
    "import torch.nn as nn\n",
    "import numpy as np\n",
    "import matplotlib.pyplot as plt\n",
    "from scipy import special\n",
    "from scipy.optimize import minimize\n",
    "from torch.utils.data import DataLoader, TensorDataset\n",
    "import scipy\n",
    "import time"
   ]
  },
  {
   "cell_type": "code",
   "execution_count": 2,
   "metadata": {},
   "outputs": [],
   "source": [
    "# define our forward model\n",
    "def G(L,N,dt,tFinal,Sigma,R_film0, VR, Cv, Qmin, jmin):\n",
    "    # INPUTS:\n",
    "    #   L       = domain length (1D)\n",
    "    #   N       = number of nodes in domain\n",
    "    #   dt      = time step\n",
    "    #   Sigma   = model parameter\n",
    "    #   R_film0 = model parameter; initial film resistance\n",
    "    #   VR      = model parameter; voltage ramp\n",
    "    #   Cv      = model parameter\n",
    "    #   Qmin    = model parameter\n",
    "    #   jmin    = model parameter\n",
    "    #\n",
    "    # OUTPUTS:\n",
    "    #   Thickness\n",
    "    #   Resistance\n",
    "    #   Current\n",
    "    #   Xi          = indicator of identifiability of Qmin, jmin\n",
    "    #                 0 -> both identifiable\n",
    "    #                 1 -> jmin unidentifiable\n",
    "    #                -1 -> Qmin unidentifiable\n",
    "\n",
    "\n",
    "    # Initialize necessary variables\n",
    "    BC_anode = 0 \n",
    "    R_film = R_film0\n",
    "    Q = 0\n",
    "    h = 0\n",
    "    i = 0\n",
    "    Resistance = np.zeros((math.floor(tFinal)+1,1))\n",
    "    Thickness  = np.zeros((math.floor(tFinal)+1,1))\n",
    "    Current    = np.zeros((math.floor(tFinal)+1,1))\n",
    "\n",
    "    h_x = L/(N-1)\n",
    "    e = np.ones((N,1))\n",
    "    \n",
    "    # Assemble A(phi) = S\n",
    "    a = np.ones(N)\n",
    "    b = np.ones(N-1)\n",
    "    A = Sigma*(-2*np.diag(a,0)+np.diag(b,-1)+np.diag(b,1))/h_x**2\n",
    "    A[-1,-2]=0\n",
    "    A[0,1] = 2*Sigma/h_x**2\n",
    "\n",
    "    SN_fac = -2*Sigma/h_x**2\n",
    "    j_fac = Sigma/h_x\n",
    "    S = np.zeros((N,1))\n",
    "    depositionStart=False\n",
    "    t = 0\n",
    "    chk_tol = dt/10\n",
    "    while (t<tFinal):\n",
    "        i += 1\n",
    "        BC_anode = BC_anode + VR*dt\n",
    "        S[-1] = SN_fac*BC_anode\n",
    "        a = -R_film*Sigma\n",
    "        A[0,0] = SN_fac*(1-h_x/a)\n",
    "        \n",
    "        phi = np.linalg.solve(A,S)\n",
    "        j = j_fac*(phi[1]-phi[0])\n",
    "        Q = Q + j*dt\n",
    "\n",
    "        '''\n",
    "        if (Q>Qmin):\n",
    "            depositionStart = True\n",
    "        if depositionStart: # threshold criterion\n",
    "            h = np.maximum(h + Cv*(j-jmin)*dt, 0) # film thickness\n",
    "            rho_j = np.maximum(8e6*np.exp(-0.1*j),2e6) # resistivity of film\n",
    "            R_film = np.maximum(R_film + rho_j*Cv*(j-jmin)*dt, 0) # film resistance\n",
    "        '''\n",
    "        if (Q>Qmin) and (j > jmin): # threshold criterion\n",
    "            h = h + Cv*j*dt # film thickness\n",
    "            rho_j = np.maximum(8e6*np.exp(-0.1*j),2e6) # resistivity of film\n",
    "            R_film = R_film + rho_j*Cv*j*dt # film resistance        \n",
    "        \n",
    "        t += dt\n",
    "        if ((t%1)<chk_tol)or(((t%1)-1)>-chk_tol):\n",
    "            tind = int(np.rint(t))\n",
    "            Resistance[tind,0] = R_film\n",
    "            Thickness[tind,0] = h\n",
    "            Current[tind,0] = j\n",
    "        \n",
    "        Xi = 0\n",
    "\n",
    "    return Thickness, Resistance, Current, Xi"
   ]
  },
  {
   "cell_type": "markdown",
   "metadata": {},
   "source": [
    "## First, generate the inference data"
   ]
  },
  {
   "cell_type": "code",
   "execution_count": 29,
   "metadata": {},
   "outputs": [
    {
     "data": {
      "text/plain": [
       "[<matplotlib.lines.Line2D at 0x18337767148>]"
      ]
     },
     "execution_count": 29,
     "metadata": {},
     "output_type": "execute_result"
    },
    {
     "data": {
      "image/png": "[encoded data removed]",
      "text/plain": [
       "<Figure size 432x288 with 1 Axes>"
      ]
     },
     "metadata": {
      "needs_background": "light"
     },
     "output_type": "display_data"
    }
   ],
   "source": [
    "Sigma       = 0.14  # \n",
    "Cv          = 1e-7  #\n",
    "R_film0     = 0.5   # Initial film resistance\n",
    "VR          = 1     # Voltage Ramp\n",
    "jmin        = 1     #\n",
    "Qmin        = 150   #\n",
    "rho_j       = 5e6   #\n",
    "L           = 0.0254# Domain length\n",
    "Nx          = 11    # Number of spatial domain nodes\n",
    "dt          = 0.01   # Forward model time step\n",
    "tFinal      = 50   # Forward model final time\n",
    "sig_thk     = 8e-8  # noise for thickness data\n",
    "\n",
    "n_samples = 5\n",
    "\n",
    "Thk, Res, Cur, Xi = G(L, Nx, dt, tFinal, Sigma, R_film0, VR, Cv, Qmin, jmin)\n",
    "\n",
    "Thk_d = np.zeros((n_samples, np.shape(Thk)[0]))\n",
    "for i in range(n_samples):\n",
    "    Thk_d[i,:] = Thk[:,0] + np.random.normal(0, sig_thk, np.shape(Thk[:,0]))\n",
    "\n",
    "\n",
    "plt.figure(1)\n",
    "plt.plot(Thk_d[0,:])\n",
    "\n"
   ]
  },
  {
   "cell_type": "markdown",
   "metadata": {},
   "source": [
    "### We will perform Gaussian mean-field VI first on the forward model (must be gradient-free)"
   ]
  },
  {
   "cell_type": "code",
   "execution_count": 5,
   "metadata": {},
   "outputs": [
    {
     "data": {
      "text/plain": [
       "[<matplotlib.lines.Line2D at 0x18336079888>]"
      ]
     },
     "execution_count": 5,
     "metadata": {},
     "output_type": "execute_result"
    },
    {
     "data": {
      "image/png": "[encoded data removed]",
      "text/plain": [
       "<Figure size 432x288 with 1 Axes>"
      ]
     },
     "metadata": {
      "needs_background": "light"
     },
     "output_type": "display_data"
    }
   ],
   "source": [
    "def forwardModel(x):\n",
    "    Thk, _, _, _ = G(L,Nx,dt,tFinal,Sigma,R_film0,VR,10**(-7.0),x,1.0)\n",
    "    return Thk\n",
    "\n",
    "def optim(params, prior, Model, data, C_D, b):\n",
    "    # params = [mean, logvar] of posterior\n",
    "    # prior = [mean, logvar] of prior\n",
    "    # Model = forward model \n",
    "    # data\n",
    "    # b = number of MC samples\n",
    "    \n",
    "    d = np.shape(data)[0] # how many data samples we have\n",
    "    D = 1\n",
    "    mup = 140#prior[:D]\n",
    "    logvarp = prior#[D:]\n",
    "    \n",
    "    mu = 150#params[:D]\n",
    "    logvar = params#[D:]\n",
    "    \n",
    "    std = np.exp(0.5*logvar)\n",
    "    eps = np.random.randn(b,D)\n",
    "    samples = mu + std * eps\n",
    "    \n",
    "    G = np.zeros((b,np.shape(data)[1]))\n",
    "    for i in range(b):\n",
    "        G_temp = Model(samples[i,:])\n",
    "        G[i,:] = G_temp[:,0]\n",
    "        \n",
    "    lr = np.sum(0.5*((np.tile(data, (b,1,1))-np.transpose(np.tile(G, (d,1,1)), (1,0,2)))**2 / np.tile(C_D, (b, d, 1))), (1,2))# /max_output\n",
    "    #print(np.shape(np.tile(data,(b,1,1))))\n",
    "    #print(np.shape(np.transpose(np.tile(G,(d,1,1)), (1,0,2))))\n",
    "    lr = np.mean(lr)\n",
    "    #print(lr)\n",
    "    #print(0.5*np.sum((mu**2 - 2*mu*mup + np.exp(logvar))/np.exp(logvarp)))\n",
    "    return 0.5*np.sum((mu**2 - 2*mu*mup + np.exp(logvar))/np.exp(logvarp)) - np.sum(0.5*logvar) + lr\n",
    "    \n",
    "prior = np.array([np.log(25**2)])#140, np.log(25**2)])#np.array([7.0, 140, 1, np.log(1**2), np.log(25**2), np.log(0.25**2)])\n",
    "post0 = np.array([np.log(1e1**2)])#145, np.log(1e-2**2)])#np.array([7.0, 140, 1, np.log(1e-2**2), np.log(1e-1**2), np.log(1e-2**2)])\n",
    "\n",
    "#initial_simplex = np.random.randn(7,6)*2 + prior\n",
    "C_D = np.var(Thk_d, axis = 0)\n",
    "\n",
    "MC = 10 # samples for MC estimate of expectation\n",
    "#opt = scipy.optimize.minimize(optim, post0, args=(prior, forwardModel, Thk_d, C_D, MC), method='Nelder-Mead', \\\n",
    "                              #options = {'disp':True})\n",
    "\n",
    "#print(opt)\n",
    "\n",
    "n = 10\n",
    "v1 = np.linspace(-5,5,n)\n",
    "lv = np.zeros(n)\n",
    "for i in range(n):\n",
    "    x = 0\n",
    "    lv[i] = optim(np.array([v1[i]]), prior, forwardModel, Thk_d, C_D, MC)\n",
    "\n",
    "plt.figure(1)\n",
    "plt.plot(v1,lv)"
   ]
  },
  {
   "cell_type": "markdown",
   "metadata": {},
   "source": [
    "### Compute the true posterior"
   ]
  },
  {
   "cell_type": "code",
   "execution_count": 31,
   "metadata": {},
   "outputs": [
    {
     "name": "stdout",
     "output_type": "stream",
     "text": [
      "[  -174.36998231   -174.36998231   -174.36998231   -174.36998231\n",
      "   -174.36998231   -174.36998231   -174.36998231   -174.36998231\n",
      "   -174.36998231   -174.36998231   -174.36998231   -174.36998231\n",
      "   -174.36998231   -174.36998231   -174.36998231   -174.36998231\n",
      "   -174.36998231   -174.36998231   -174.36998231   -174.36998231\n",
      "   -174.36998231   -174.36998231   -174.36998231   -174.36998231\n",
      "   -174.36998231   -174.36998231   -174.36998231   -174.36998231\n",
      "   -174.36998231   -174.36998231   -174.36998231   -174.36998231\n",
      "   -174.36998231   -174.36998231   -174.36998231   -174.36998231\n",
      "   -174.36998231   -174.36998231   -174.36998231   -174.36998231\n",
      "   -174.36998231   -174.36998231   -174.36998231   -174.36998231\n",
      "   -174.36998231   -174.36998231   -174.36998231   -174.36998231\n",
      "   -174.36998231   -174.36998231   -174.36998231   -174.36998231\n",
      "   -174.36998231   -174.36998231   -174.36998231   -174.36998231\n",
      "   -174.36998231   -174.36998231   -174.36998231   -174.36998231\n",
      "   -174.36998231   -174.36998231   -174.36998231   -182.22953131\n",
      "   -236.41989745   -368.47311563   -583.08900189   -884.26028755\n",
      "  -1267.2136735   -1733.70692644  -2271.95899511  -2874.08828084\n",
      "  -3542.30078625  -4269.66139222  -5051.03502824  -5879.79871742\n",
      "  -6749.34968703  -7663.76213177  -8616.29723413  -9603.14275519\n",
      " -10627.69252333 -11672.76896026 -12752.21813605 -13849.05949761\n",
      " -14970.69864127 -16110.45562528 -17267.6404005  -18434.87115428\n",
      " -19622.17577934 -20813.53524762 -22022.41321389 -23237.21568728\n",
      " -24455.80657819 -25674.49264339 -26903.17775432 -28131.40727474\n",
      " -29373.91448728 -30624.26550948 -31861.93000713 -33100.18768709]\n",
      "[1.35199553e+011 1.35199553e+011 1.35199553e+011 1.35199553e+011\n",
      " 1.35199553e+011 1.35199553e+011 1.35199553e+011 1.35199553e+011\n",
      " 1.35199553e+011 1.35199553e+011 1.35199553e+011 1.35199553e+011\n",
      " 1.35199553e+011 1.35199553e+011 1.35199553e+011 1.35199553e+011\n",
      " 1.35199553e+011 1.35199553e+011 1.35199553e+011 1.35199553e+011\n",
      " 1.35199553e+011 1.35199553e+011 1.35199553e+011 1.35199553e+011\n",
      " 1.35199553e+011 1.35199553e+011 1.35199553e+011 1.35199553e+011\n",
      " 1.35199553e+011 1.35199553e+011 1.35199553e+011 1.35199553e+011\n",
      " 1.35199553e+011 1.35199553e+011 1.35199553e+011 1.35199553e+011\n",
      " 1.35199553e+011 1.35199553e+011 1.35199553e+011 1.35199553e+011\n",
      " 1.35199553e+011 1.35199553e+011 1.35199553e+011 1.35199553e+011\n",
      " 1.35199553e+011 1.35199553e+011 1.35199553e+011 1.35199553e+011\n",
      " 1.35199553e+011 1.35199553e+011 1.35199553e+011 1.35199553e+011\n",
      " 1.35199553e+011 1.35199553e+011 1.35199553e+011 1.35199553e+011\n",
      " 1.35199553e+011 1.35199553e+011 1.35199553e+011 1.35199553e+011\n",
      " 1.35199553e+011 1.35199553e+011 1.35199553e+011 5.21935088e+007\n",
      " 1.52419140e-016 6.80856416e-074 4.23214364e-167 6.75356262e-298\n",
      " 0.00000000e+000 0.00000000e+000 0.00000000e+000 0.00000000e+000\n",
      " 0.00000000e+000 0.00000000e+000 0.00000000e+000 0.00000000e+000\n",
      " 0.00000000e+000 0.00000000e+000 0.00000000e+000 0.00000000e+000\n",
      " 0.00000000e+000 0.00000000e+000 0.00000000e+000 0.00000000e+000\n",
      " 0.00000000e+000 0.00000000e+000 0.00000000e+000 0.00000000e+000\n",
      " 0.00000000e+000 0.00000000e+000 0.00000000e+000 0.00000000e+000\n",
      " 0.00000000e+000 0.00000000e+000 0.00000000e+000 0.00000000e+000\n",
      " 0.00000000e+000 0.00000000e+000 0.00000000e+000 0.00000000e+000]\n",
      "124019027777.30594\n"
     ]
    },
    {
     "data": {
      "text/plain": [
       "Text(0.5, 0, '$-\\\\log C_v$')"
      ]
     },
     "execution_count": 31,
     "metadata": {},
     "output_type": "execute_result"
    },
    {
     "data": {
      "image/png": "[encoded data removed]",
      "text/plain": [
       "<Figure size 432x288 with 1 Axes>"
      ]
     },
     "metadata": {
      "needs_background": "light"
     },
     "output_type": "display_data"
    },
    {
     "data": {
      "image/png": "[encoded data removed]",
      "text/plain": [
       "<Figure size 432x288 with 1 Axes>"
      ]
     },
     "metadata": {
      "needs_background": "light"
     },
     "output_type": "display_data"
    }
   ],
   "source": [
    "def forwardModel(x):\n",
    "    Thk, _, _, _ = G(L,Nx,dt,tFinal,Sigma,R_film0,VR,10**(-7),150.0,x)\n",
    "    return Thk\n",
    "\n",
    "def post(params, prior, Model, data, C_D):\n",
    "    # params = [mean, logvar] of posterior\n",
    "    # prior = [mean, logvar] of prior\n",
    "    # Model = forward model \n",
    "    # data\n",
    "    # b = number of MC samples\n",
    "    \n",
    "    b=1\n",
    "    d = np.shape(data)[0] # how many data samples we have\n",
    "    D = 1\n",
    "    mup = prior[:D]\n",
    "    logvarp = prior[D:]\n",
    "    \n",
    "    samples = params\n",
    "    \n",
    "    Gt = np.zeros((1,d))\n",
    "    G_temp = Model(samples)\n",
    "    Gt = G_temp[:,0]\n",
    "    \n",
    "        \n",
    "    lr = -np.sum(0.5*((np.tile(data, (b,1,1))-np.transpose(np.tile(Gt, (d,1,1)), (1,0,2)))**2 / np.tile(C_D, (b, d, 1))), (1,2)) \\\n",
    "            - 0.5*np.sum(C_D)# /max_output\n",
    "\n",
    "    lr = np.mean(lr)\n",
    "    if params<0:\n",
    "        prior = 0\n",
    "    elif params>2:\n",
    "        prior = 0\n",
    "    else:\n",
    "        prior = 1\n",
    "    return lr + prior#0.5*((mup-samples)**2/np.exp(logvarp) + logvarp)  \n",
    "    \n",
    "prior = np.array([0.75, np.log(0.2**2)])\n",
    "\n",
    "C_D = np.var(Thk_d, axis = 0)\n",
    "\n",
    "n = 100\n",
    "v1 = np.linspace(0,2,n)\n",
    "lv = np.zeros(n)\n",
    "for i in range(n):\n",
    "    x = 0\n",
    "    lv[i] = post(v1[i], prior, forwardModel, Thk_d, C_D)\n",
    "\n",
    "print(lv)\n",
    "post = np.exp((lv+200))\n",
    "print(post)\n",
    "print(Z)\n",
    "Z = sum(post)*(v1[1]-v1[0])\n",
    "post = post/Z\n",
    "\n",
    "pv0 = 1/np.sqrt(2*np.pi*np.exp(0.5*prior[1]))*np.exp(-0.5*((prior[0]-v1)**2/np.exp(prior[1])))\n",
    "\n",
    "plt.figure(1)\n",
    "plt.plot(v1,lv)\n",
    "\n",
    "plt.figure(2)\n",
    "plt.plot(v1,post, label='Bayesian Posterior')\n",
    "plt.plot(v1, pv0, 'g', label='Prior')\n",
    "plt.plot([jmin, jmin], [0, np.max(post)], 'k--', label=r'$\\theta^*$')\n",
    "plt.legend()\n",
    "plt.xlabel(r'$-\\log C_v$')"
   ]
  },
  {
   "cell_type": "code",
   "execution_count": 32,
   "metadata": {},
   "outputs": [
    {
     "name": "stdout",
     "output_type": "stream",
     "text": [
      "(2, 2, 4)\n",
      "[[1 2]\n",
      " [3 4]\n",
      " [5 6]]\n",
      "(1, 3, 4)\n"
     ]
    }
   ],
   "source": [
    "A = np.array([[1, 2],[3, 4], [5, 6]])\n",
    "C = np.array([1,2,3,4])\n",
    "print(np.shape(np.tile(C, (2,2,1))))\n",
    "print(A)\n",
    "print(np.shape(np.tile(A, (1,1,2))))"
   ]
  },
  {
   "cell_type": "markdown",
   "metadata": {},
   "source": [
    "## Now Generate the data to train a surrogate model"
   ]
  },
  {
   "cell_type": "code",
   "execution_count": 33,
   "metadata": {},
   "outputs": [
    {
     "name": "stdout",
     "output_type": "stream",
     "text": [
      "Input data shape:  torch.Size([51, 200, 3])\n",
      "Output data shape:  torch.Size([51, 200, 1])\n",
      "2.732913897653138e-05\n"
     ]
    },
    {
     "data": {
      "image/png": "[encoded data removed]",
      "text/plain": [
       "<Figure size 432x288 with 1 Axes>"
      ]
     },
     "metadata": {
      "needs_background": "light"
     },
     "output_type": "display_data"
    }
   ],
   "source": [
    "\n",
    "n_d_sur = 200 # number of data samples for surrogate model\n",
    "\n",
    "\n",
    "samps = np.random.uniform(0, 1, (n_d_sur, 3))\n",
    "scales = np.ones((1, 3))\n",
    "scales[0,0] = 5 # Cv\n",
    "scales[0,1] = 200 # Qmin\n",
    "scales[0,2] = 5 # jmin\n",
    "offset = np.zeros((1, 3))\n",
    "offset[0,0] = 4.5 # Cv\n",
    "offset[0,1] = 50 # Qmin\n",
    "samps = samps * scales + offset\n",
    "\n",
    "thk_data_sur = np.zeros((n_d_sur, np.shape(Thk)[0]))\n",
    "plt.figure(2)\n",
    "for i in range(n_d_sur):\n",
    "    temp, _, _, _ = G(L, Nx, dt, tFinal, Sigma, R_film0, VR, 10**(-samps[i,0]), samps[i,1], samps[i,2])\n",
    "    thk_data_sur[i,:] = temp[:,0]\n",
    "    plt.plot(temp)\n",
    "thk_data_sur = np.reshape(thk_data_sur, (tFinal+1, n_d_sur, 1)) # reshape for training\n",
    "#plt.ylim([0, 5e-6])\n",
    "\n",
    "inp_data_sur = samps\n",
    "\n",
    "# regularize the input data\n",
    "inp_data_sur = (inp_data_sur - offset) / scales\n",
    "\n",
    "inp_data_sur = np.tile(inp_data_sur, (tFinal+1, 1, 1)) # reshape for training\n",
    "\n",
    "# scale the output data\n",
    "max_output = np.max(thk_data_sur)\n",
    "thk_data_sur = thk_data_sur / max_output\n",
    "\n",
    "\n",
    "\n",
    "inp_data_sur = torch.from_numpy(inp_data_sur).float()\n",
    "thk_data_sur = torch.from_numpy(thk_data_sur).float()\n",
    "print(\"Input data shape: \", np.shape(inp_data_sur))\n",
    "print(\"Output data shape: \", np.shape(thk_data_sur))\n",
    "print(max_output)\n",
    "\n",
    "# Include the below lines for data processing if using FNN surrogate\n",
    "inp_data_sur = inp_data_sur[0,:,:]\n",
    "thk_data_sur = np.reshape(thk_data_sur, (n_d_sur, tFinal+1))"
   ]
  },
  {
   "cell_type": "markdown",
   "metadata": {},
   "source": [
    "### Surrogate Model\n",
    "We first want to create a surrogate model using LSTMs for time series prediction. The will greatly aid in the speed of inference and prediction."
   ]
  },
  {
   "cell_type": "code",
   "execution_count": 34,
   "metadata": {},
   "outputs": [],
   "source": [
    "# create the LSTM model\n",
    "class SurrogateLSTM(nn.Module):\n",
    "    def __init__(self, input_size, hidden_size, num_layers=1):\n",
    "        super().__init__()\n",
    "        self.hidden_size = hidden_size\n",
    "        self.input_size = input_size\n",
    "        self.num_layers = num_layers\n",
    "        \n",
    "        self.lstm = nn.Sequential()\n",
    "        self.lstm.add_module('lstm1', nn.LSTM(input_size, hidden_size, num_layers))\n",
    "        self.ff1 = nn.Linear(hidden_size, 128)\n",
    "        self.ff2 = nn.Linear(20, 128)\n",
    "        \n",
    "        self.act = nn.ReLU()\n",
    "        \n",
    "    def forward(self, x):\n",
    "        #h0 = torch.autograd.Variable(torch.zeros((self.num_layers, x.size(1), self.hidden_size)))\n",
    "        #c0 = torch.autograd.Variable(torch.zeros((self.num_layers, x.size(1), self.hidden_size)))\n",
    "        output, (hn, cn) = self.lstm(x)#, (h0, c0))\n",
    "        output = output[:, :, 0].unsqueeze(2)\n",
    "        '''\n",
    "        print(np.shape(output))\n",
    "        print(np.shape(output.reshape(x.size(1),  -1)))\n",
    "        \n",
    "        output = self.ff1(output.reshape(x.size(1), -1))\n",
    "        output = self.act(output)\n",
    "        output = self.ff2(output)\n",
    "        '''\n",
    "        return output\n",
    "    \n",
    "class SurrogateFNN(nn.Module):\n",
    "    def __init__(self, input_size, output_size, n_layers, n_nodes, act = nn.ReLU()):\n",
    "        super().__init__()\n",
    "        self.input_size = input_size\n",
    "        self.n_layers = n_layers\n",
    "        self.n_nodes = n_nodes\n",
    "        self.act = act\n",
    "        \n",
    "        self.FNN = nn.Sequential()\n",
    "        self.FNN.add_module('fnn0', nn.Linear(input_size, n_nodes))\n",
    "        self.FNN.add_module('act0', act)\n",
    "        for i in range(n_layers - 1):\n",
    "            self.FNN.add_module('fnn%d'% (i+1), nn.Linear(n_nodes, n_nodes))\n",
    "            self.FNN.add_module('act%d'% (i+1), act)\n",
    "            \n",
    "        self.FNN.add_module('fnn_final', nn.Linear(n_nodes, output_size))\n",
    "        self.FNN.add_module('relu_final', nn.Sigmoid())\n",
    "        \n",
    "    def forward(self, x):\n",
    "        return self.FNN(x)\n",
    "                                              \n",
    "                                            "
   ]
  },
  {
   "cell_type": "code",
   "execution_count": 45,
   "metadata": {},
   "outputs": [
    {
     "name": "stdout",
     "output_type": "stream",
     "text": [
      "Epoch:  0  Loss:  tensor(9.3330e-08, grad_fn=<MeanBackward0>)\n",
      "Epoch:  3000  Loss:  tensor(9.7505e-08, grad_fn=<MeanBackward0>)\n",
      "Epoch:  6000  Loss:  tensor(9.7592e-08, grad_fn=<MeanBackward0>)\n",
      "Epoch:  9000  Loss:  tensor(8.6132e-08, grad_fn=<MeanBackward0>)\n",
      "Epoch:  12000  Loss:  tensor(1.1638e-07, grad_fn=<MeanBackward0>)\n",
      "Epoch:  15000  Loss:  tensor(3.0156e-07, grad_fn=<MeanBackward0>)\n",
      "Epoch:  18000  Loss:  tensor(7.9216e-08, grad_fn=<MeanBackward0>)\n",
      "Epoch:  21000  Loss:  tensor(1.0375e-07, grad_fn=<MeanBackward0>)\n",
      "Epoch:  24000  Loss:  tensor(1.5666e-07, grad_fn=<MeanBackward0>)\n",
      "Epoch:  27000  Loss:  tensor(9.9114e-08, grad_fn=<MeanBackward0>)\n"
     ]
    }
   ],
   "source": [
    "# now define parameters and train\n",
    "epochs = 30000\n",
    "\n",
    "# ------- For LSTM Surrogate -------------------\n",
    "#input_size = 3\n",
    "#hidden_size = 5\n",
    "#num_layers = 2\n",
    "\n",
    "#Surrogate = SurrogateLSTM(input_size, hidden_size, num_layers)\n",
    "# ----------------------------------------------\n",
    "\n",
    "# -------------------- For FNN Surrogate ------------------\n",
    "n_layers = 5\n",
    "n_nodes = 64\n",
    "act = nn.SiLU()\n",
    "#Surrogate = SurrogateFNN(3, tFinal+1, n_layers, n_nodes, act=act)\n",
    "# ---------------------------------------------------------\n",
    "\n",
    "#optimizer1 = torch.optim.Adam(Surrogate.parameters(), lr = 1e-3)\n",
    "optimizer1.param_groups[0]['lr'] = 5e-4\n",
    "\n",
    "loss_v = np.zeros(epochs)\n",
    "for epoch in range(epochs):\n",
    "    Surrogate.zero_grad()\n",
    "    outputs = Surrogate.forward(inp_data_sur)\n",
    "    \n",
    "    #print(np.shape(outputs))\n",
    "    #print(np.shape(thk_data_sur))\n",
    "    \n",
    "    loss = torch.mean((outputs - thk_data_sur)**2)\n",
    "    loss.backward()\n",
    "    optimizer1.step()\n",
    "    \n",
    "    loss_v[epoch] = loss.detach().numpy()\n",
    "    if epoch % (epochs//10) == 0:\n",
    "        print(\"Epoch: \", epoch, \" Loss: \", loss)\n",
    "    "
   ]
  },
  {
   "cell_type": "code",
   "execution_count": 46,
   "metadata": {},
   "outputs": [
    {
     "name": "stdout",
     "output_type": "stream",
     "text": [
      "[71]\n",
      "tensor([[0.3020, 0.1703, 0.6730],\n",
      "        [0.5874, 0.4058, 0.1617],\n",
      "        [0.4404, 0.5775, 0.7384],\n",
      "        [0.2328, 0.2044, 0.7120],\n",
      "        [0.3240, 0.3122, 0.3129]])\n",
      "Final Loss:  7.444464955597141e-08\n"
     ]
    },
    {
     "data": {
      "image/png": "[encoded data removed]",
      "text/plain": [
       "<Figure size 432x288 with 1 Axes>"
      ]
     },
     "metadata": {
      "needs_background": "light"
     },
     "output_type": "display_data"
    },
    {
     "data": {
      "image/png": "[encoded data removed]",
      "text/plain": [
       "<Figure size 432x288 with 1 Axes>"
      ]
     },
     "metadata": {
      "needs_background": "light"
     },
     "output_type": "display_data"
    },
    {
     "data": {
      "image/png": "[encoded data removed]",
      "text/plain": [
       "<Figure size 432x288 with 1 Axes>"
      ]
     },
     "metadata": {
      "needs_background": "light"
     },
     "output_type": "display_data"
    }
   ],
   "source": [
    "# plot training loss\n",
    "plt.figure(2)\n",
    "plt.semilogy(loss_v)\n",
    "\n",
    "# post process prediction results\n",
    "valid_input = torch.rand((1, 3))\n",
    "valid_input[:, 0] = (7.0 - offset[0,0])/scales[0,0]\n",
    "valid_input[:, 1] = (150.0 - offset[0,1])/scales[0,1]\n",
    "valid_input[:, 2] = (1.0 - offset[0,2])/scales[0,2]\n",
    "valid_output = Surrogate(valid_input)\n",
    "plt.figure(5)\n",
    "plt.plot(valid_output[0,:].detach().numpy(), label='Surrogate Validation')\n",
    "plt.plot(Thk[:,0] / max_output, label='Truth')\n",
    "plt.legend()\n",
    "\n",
    "post_output = Surrogate(inp_data_sur)#post_input)\n",
    "\n",
    "plt.figure(1)\n",
    "ind = np.random.randint(0, n_d_sur, 1)\n",
    "print(ind)\n",
    "plt.plot(post_output[ind[0],:].detach().numpy(), label=\"Surrogate Model\")\n",
    "plt.plot(thk_data_sur[ind[0],:], label=\"Forward Model\")\n",
    "plt.legend()\n",
    "\n",
    "print(inp_data_sur[:5, :])\n",
    "print(\"Final Loss: \", loss_v[-1])"
   ]
  },
  {
   "cell_type": "markdown",
   "metadata": {},
   "source": [
    "#### Now we create the normalizing flow classes and train the model using data generated from our forward model"
   ]
  },
  {
   "cell_type": "code",
   "execution_count": 53,
   "metadata": {},
   "outputs": [],
   "source": [
    "# we first create the base inference network\n",
    "\n",
    "class encoder(nn.Sequential):\n",
    "    def __init__(self, layers, nodes, act):\n",
    "        super(encoder, self).__init__()\n",
    "        \n",
    "        self.add_module('full_conn0', nn.Linear(1, nodes))\n",
    "        self.add_module('act0', act)\n",
    "        for i in range(layers-1):\n",
    "            self.add_module('full_conn%d'%(i+1), nn.Linear(nodes, nodes))\n",
    "            self.add_module('act%d'%(i+1), act)\n",
    "\n",
    "        \n",
    "        self.add_module('full_conn%d'%(layers), nn.Linear(nodes, 1))\n",
    "\n",
    "# now the decoding network (mirrors the encoder)\n",
    "\n",
    "class decoder(nn.Sequential):\n",
    "    def __init__(self, layers, nodes, act):\n",
    "        super(decoder, self).__init__()\n",
    "        \n",
    "        self.add_module('full_conn0', nn.Linear(1, nodes))\n",
    "        self.add_module('act0', act)\n",
    "        for i in range(layers-1):\n",
    "            self.add_module('full_conn%d'%(i+1), nn.Linear(nodes, nodes))\n",
    "            self.add_module('act%d'%(i+1), act)\n",
    "\n",
    "        \n",
    "        self.add_module('full_conn%d'%(layers), nn.Linear(nodes, 1))\n",
    "    \n",
    "\n",
    "# now define the flow layers\n",
    "\n",
    "class PlanarFlow(nn.Module):\n",
    "    def __init__(self, D):\n",
    "        super().__init__()\n",
    "        act = torch.tanh\n",
    "        self.D = D\n",
    "        \n",
    "        self.w = nn.Parameter(torch.empty(D))\n",
    "        self.b = nn.Parameter(torch.empty(1))\n",
    "        self.u = nn.Parameter(torch.empty(D))\n",
    "        self.act = act\n",
    "        self.act_deriv = lambda x: 1 - torch.tanh(x)**2\n",
    "        \n",
    "        nn.init.normal_(self.w)\n",
    "        nn.init.normal_(self.u)\n",
    "        nn.init.normal_(self.b)\n",
    "        \n",
    "        #self.a = nn.Parameter(0*torch.ones(1))\n",
    "        #nn.init.normal_(self.a)\n",
    "        \n",
    "    def forward(self, z):\n",
    "        \n",
    "        dot = torch.sum(self.w*self.u)\n",
    "        u = self.u + (torch.log(1+torch.exp(dot))-1-dot)*self.w/torch.sum(self.w**2)\n",
    "        lin = (z @ self.w + self.b).unsqueeze(1)\n",
    "        f = z + u * self.act(lin)\n",
    "        phi = self.act_deriv(lin) * self.w\n",
    "        log_det = torch.log(torch.abs(1+phi@u))\n",
    "        \n",
    "        #f = z + self.a\n",
    "        #log_det = 1\n",
    "        \n",
    "        return f, log_det\n",
    "\n",
    "class RadialFlow(nn.Module):\n",
    "    def __init__(self, D):\n",
    "        super().__init__()\n",
    "        \n",
    "        self.D = D\n",
    "        self.z0 = nn.Parameter(torch.empty(D))\n",
    "        self.beta = nn.Parameter(torch.empty(1))\n",
    "        self.alpha = nn.Parameter(torch.empty(1))\n",
    "        \n",
    "        nn.init.normal_(self.z0)\n",
    "        nn.init.normal_(self.alpha)\n",
    "        nn.init.normal_(self.beta)\n",
    "        \n",
    "    def forward(self, z):\n",
    "        beta = torch.log(1+torch.exp(self.beta)) - torch.abs(self.alpha) # to ensure layer is invertible\n",
    "        r = torch.linalg.vector_norm(z - self.z0, dim = 1)\n",
    "\n",
    "        h = beta / (torch.abs(self.alpha) + r)\n",
    "        h_prime = -beta * r / (torch.abs(self.alpha)+r) ** 2\n",
    "        f = z + h.unsqueeze(1)*(z-self.z0)\n",
    "\n",
    "        log_det = (self.D-1) * torch.log(1+h) \\\n",
    "                  + torch.log(1+h+h_prime)       \n",
    "        return f, log_det \n",
    "    \n",
    "    \n",
    "class G_torch(nn.Module):\n",
    "    def __init__(self):\n",
    "        super().__init__()\n",
    "        \n",
    "    def forward(self, z):\n",
    "        # Define all of the parameters\n",
    "        Sigma       = 0.14  # \n",
    "        #Cv          = 1e-7  #\n",
    "        R_film0     = 0.5   # Initial film resistance\n",
    "        VR          = 1     # Voltage Ramp\n",
    "        #jmin        = 1     #\n",
    "        #Qmin        = 150   #\n",
    "        rho_j       = 5e6   #\n",
    "        L           = 0.0254# Domain length\n",
    "        N          = 11    # Number of spatial domain nodes\n",
    "        dt          = 0.1   # Forward model time step\n",
    "        tFinal      = 50   # Forward model final time\n",
    "        \n",
    "        \n",
    "        batch_size = np.shape(z)[0]\n",
    "        #z = torch.exp(z)\n",
    "        Cv = torch.pow(10.0, -z)#[:,0])\n",
    "        #Qmin = z[:,1]\n",
    "        #jmin = z[:,2]\n",
    "        #Cv = 1e-7\n",
    "        Qmin = 150\n",
    "        jmin = 1.0\n",
    "        \n",
    "        Thk_d = torch.zeros((batch_size, tFinal+1))\n",
    "        \n",
    "        h_x = L/(N-1)\n",
    "        SN_fac = -2*Sigma/h_x**2\n",
    "        j_fac = Sigma/h_x\n",
    "        e = torch.ones((N,1))\n",
    "        al = torch.ones(N)\n",
    "        b = torch.ones(N-1)\n",
    "        \n",
    "        for k in range(batch_size):\n",
    "            \n",
    "            # Initialize necessary variables\n",
    "            BC_anode = 0 \n",
    "            R_film = R_film0\n",
    "            Q = 0\n",
    "            h = 0 \n",
    "            i = 0\n",
    "            Resistance = torch.zeros((math.floor(tFinal)+1,1))\n",
    "            Thickness  = torch.zeros((math.floor(tFinal)+1,1))\n",
    "            Current    = torch.zeros((math.floor(tFinal)+1,1))\n",
    "\n",
    "            \n",
    "            # Assemble A(phi) = S\n",
    "\n",
    "            A = Sigma*(-2*torch.diag(al,0)+torch.diag(b,-1)+torch.diag(b,1))/h_x**2\n",
    "            A[-1,-2]=0\n",
    "            A[0,1] = 2*Sigma/h_x**2\n",
    "            A[0,0] = 0\n",
    "            A = A.repeat(1002, 1, 1)\n",
    "\n",
    "            R_film = R_film0*torch.ones((1000 + 2,))\n",
    "            h = torch.zeros((1000 + 2, ))\n",
    "            rho_j = torch.zeros((1002, ))\n",
    "            j = torch.zeros((1002, ))\n",
    "            Q = torch.zeros((1002, ))\n",
    "            phi = torch.zeros((1000 + 2, N))\n",
    "            \n",
    "            S = torch.zeros((1000 + 2, N))\n",
    "            Si = S + 0.\n",
    "            depoStart=False\n",
    "            t = 0\n",
    "            chk_tol = dt/10\n",
    "            while (t<tFinal):\n",
    "                i = i + 1\n",
    "                BC_anode = BC_anode + VR*dt\n",
    "                S[i-1,-1] = SN_fac*BC_anode\n",
    "                a = -R_film[i-1]*Sigma\n",
    "                A[i,0,0] = SN_fac*(1-h_x/a)\n",
    "                #U, s, Vh = torch.linalg.svd(A[:,:,i])\n",
    "                #Ai = torch.transpose(Vh,0,1)@torch.diag(1/s)@torch.transpose(U,0,1)\n",
    "                phi[i-1,:] = torch.linalg.solve(A[i,:,:], S[i-1,:])#torch.matmul(Ai, S[i-1,:])\n",
    "                j[i] = j_fac*(phi[i-1,1]-phi[i-1,0])\n",
    "                Q[i] = Q[i-1] + j[i]*dt\n",
    "\n",
    "                if (Q[i]>Qmin):\n",
    "                    depoStart = True\n",
    "                if depoStart: # threshold criterion\n",
    "                    h[i] = torch.maximum(h[i-1] + Cv[k]*(j[i]-jmin)*dt, torch.zeros(1)) # film thickness\n",
    "                    rho_j[i] = torch.maximum(8e6*torch.exp(-0.1*j[i]),2e6*torch.ones(1)) # resistivity of film\n",
    "                    R_film[i] = torch.maximum(R_film[i-1] + rho_j[i]*(j[i]-jmin)*Cv[k]*dt,torch.zeros(1)) # film resistance\n",
    "                else:\n",
    "                    R_film[i] = R_film[i-1]\n",
    "                    h[i] = h[i-1]\n",
    "                    \n",
    "                t = t + dt\n",
    "                if ((t%1)<chk_tol)or(((t%1)-1)>-chk_tol):\n",
    "                    tind = int(np.rint(t))\n",
    "                    Resistance[tind,0] = R_film[i]\n",
    "                    Thickness[tind,0] = h[i]\n",
    "                    Current[tind,0] = j[i]\n",
    "        \n",
    "            Xi = 0\n",
    "            \n",
    "        \n",
    "            Thk_d[k,:] = Thickness[:,0]\n",
    "            \n",
    "        return Thk_d\n",
    "\n",
    "        \n",
    "        \n",
    "        \n",
    "        "
   ]
  },
  {
   "cell_type": "code",
   "execution_count": 124,
   "metadata": {},
   "outputs": [],
   "source": [
    "# now we can define our model\n",
    "\n",
    "class NormalizingFlowVI(nn.Module):\n",
    "    def __init__(self, layers, nodes, flow_layers, act=nn.ReLU()):\n",
    "        super().__init__()\n",
    "        \n",
    "        self.encoder_mean = encoder(layers, nodes, act)\n",
    "        self.encoder_logvar = encoder(layers, nodes, act)\n",
    "        self.decoder_mean = TrueDecoder() # decoder(layers, nodes, act)\n",
    "        self.decoder_logvar = nn.Parameter(torch.empty(1))\n",
    "        \n",
    "        self.flow = nn.Sequential()\n",
    "        #self.flow.add_module('identity', nn.Identity())\n",
    "        for i in range(flow_layers):\n",
    "            self.flow.add_module('flow%d'%(i+1), PlanarFlow(1))\n",
    "    \n",
    "    def forward(self, x):\n",
    "\n",
    "        batch_size = x.shape[0]\n",
    "        zmu, zlogvar = self.encoder_mean(x), self.encoder_logvar(x)\n",
    "        sigma = torch.exp(0.5*zlogvar)\n",
    "        z = self._reparameterize(zmu, zlogvar)\n",
    "        z0 = z.clone()\n",
    "        \n",
    "        log_prob_z0 = torch.sum( \\\n",
    "                        -0.5 * torch.log(torch.tensor(2*math.pi)) - \\\n",
    "                            zlogvar - 0.5 * ((z-zmu)/sigma) ** 2, axis = 1)\n",
    "        \n",
    "        log_det = torch.zeros((batch_size,))\n",
    "        for layer in self.flow:\n",
    "            z, ld = layer(z)\n",
    "            log_det += ld\n",
    "         \n",
    "        log_prob_zk = torch.sum(-0.5 * (torch.log(torch.tensor(2*math.pi)) + z**2), axis = 1)\n",
    "        \n",
    "        xmu = self.decoder_mean(z)\n",
    "        \n",
    "        log_px_zk = torch.sum(self.gaussian_log_prob(x, xmu, self.decoder_logvar), 1)\n",
    "        \n",
    "        return z0, zmu, zlogvar, z, xmu, self.decoder_logvar, \\\n",
    "               log_prob_z0, log_det, log_prob_zk, log_px_zk \n",
    "    \n",
    "    def _reparameterize(self, mu, logvar):\n",
    "        std = logvar.mul(0.5).exp_()\n",
    "        eps = torch.randn(*mu.size()).type_as(mu)\n",
    "        return mu + std * eps\n",
    "    \n",
    "    def gaussian_log_prob(self, x, mu, logvar):\n",
    "        return -0.5*(math.log(2*math.pi) + logvar + (x-mu)**2/torch.exp(logvar))\n",
    "    \n",
    "class Flow(nn.Module):\n",
    "    def __init__(self, D, flow_layers, act=nn.ReLU()):\n",
    "        super().__init__()\n",
    "        self.D = D\n",
    "        self.flow = nn.Sequential()\n",
    "        #self.flow.add_module('identity', nn.Identity())\n",
    "        for i in range(flow_layers):\n",
    "            #if np.mod(i, 2)==0:\n",
    "            self.flow.add_module('flow%d'%(i+1), PlanarFlow(D))\n",
    "            #else:\n",
    "            #self.flow.add_module('flow%d'%(i+1), RadialFlow(D))\n",
    "            \n",
    "        self.mu0 = torch.ones((1,D)) # nn.Parameter(torch.ones((D,))*0.5)\n",
    "        self.mu0[0,0] = 7.0\n",
    "        self.mu0[0,1] = 150\n",
    "        self.mu0[0,2] = 1.0\n",
    "        self.logvar0 = torch.ones((1,D)) #nn.Parameter(torch.ones((D,))*np.log(1**2))\n",
    "        self.logvar0[0,0] = np.log(0.1**2)\n",
    "        self.logvar0[0,1] = np.log(10**2)\n",
    "        self.logvar0[0,2] = np.log(0.1**2)\n",
    "\n",
    "    \n",
    "    def forward(self, n, mu_pzk, var_pzk):#zmu, zlogvar, mu_pzk, var_pzk):\n",
    "        batch_size = n#zmu.shape[0]\n",
    "        sigma = torch.exp(0.5*self.logvar0)#torch.exp(0.5*zlogvar)\n",
    "        zlogvar = torch.ones((n, self.D))*self.logvar0\n",
    "        zmu = torch.ones((n, self.D))*self.mu0\n",
    " \n",
    "        z = self._reparameterize(zmu, zlogvar)\n",
    "        \n",
    "        z0 = z.clone()\n",
    "        \n",
    "        log_prob_z0 = torch.sum(- 0.5 * ((z-zmu)/sigma) ** 2, axis = 1)\n",
    "        \n",
    "\n",
    "        log_det = torch.zeros((batch_size,))\n",
    "        for layer in self.flow:\n",
    "            z, ld = layer(z)\n",
    "            log_det += ld\n",
    "        #print(z) \n",
    "        log_prob_zk = torch.sum(-0.5 * ((z-mu_pzk)**2/var_pzk), axis = 1) # prior z_k\n",
    "        #print(torch.mean(log_prob_z0))\n",
    "        #print(torch.mean(log_det))\n",
    "        #print('zk', (z))#-mu_pzk)**2)\n",
    "        return z0, zmu, zlogvar, z, \\\n",
    "               log_prob_z0, log_det, log_prob_zk\n",
    "    \n",
    "    def _reparameterize(self, mu, logvar):\n",
    "        std = logvar.mul(0.5).exp_()\n",
    "        eps = torch.randn(*mu.size()).type_as(mu)\n",
    "        return mu + std * eps\n",
    "    \n",
    "    def gaussian_log_prob(self, x, mu, logvar):\n",
    "        return -0.5*(math.log(2*math.pi) + logvar + (x-mu)**2/torch.exp(logvar))\n",
    "    \n",
    "    def comp_prob(self, z, n, ind):\n",
    "        # takes input n as batch size and ind as the index to compute probability on\n",
    "        \n",
    "        sigma = torch.exp(0.5*self.logvar0)\n",
    "        zmu = torch.ones((n, self.D))*self.mu0\n",
    "        \n",
    "        log_prob_z0 = torch.sum(- 0.5 * ((z-zmu)/sigma) ** 2, axis = 1)\n",
    "        \n",
    "\n",
    "        log_det = torch.zeros((n,))\n",
    "        i = 0\n",
    "        for layer in self.flow:\n",
    "            if i==(len(self.flow)-1):\n",
    "                \n",
    "                \n",
    "                # compute the probability of only the ind variable (planar flows)\n",
    "                dot = torch.sum(layer.w*layer.u)\n",
    "                u = layer.u + (torch.log(1+torch.exp(dot))-1-dot)*layer.w/torch.sum(layer.w**2)\n",
    "                lin = (z @ layer.w + layer.b).unsqueeze(1)\n",
    "                ld = 1 + u[ind] * layer.act_deriv(lin) * layer.w[ind]  \n",
    "                ld = ld[:,0]  \n",
    "                log_det += torch.log(torch.abs(ld))\n",
    "                \n",
    "                z, _ = layer(z)\n",
    "                zk = z[:,ind]\n",
    "            else:\n",
    "                z, ld = layer(z)\n",
    "                log_det += ld\n",
    "                \n",
    "            i += 1\n",
    "        \n",
    "        # return the probability\n",
    "        return zk, log_prob_z0 - log_det\n",
    "        "
   ]
  },
  {
   "cell_type": "code",
   "execution_count": 131,
   "metadata": {
    "scrolled": true
   },
   "outputs": [
    {
     "name": "stdout",
     "output_type": "stream",
     "text": [
      "Epoch:  0 Loss:  67858.52523473557\n",
      "Epoch:  500 Loss:  3383.3660668222633\n",
      "Epoch:  1000 Loss:  1816.4343521699477\n",
      "Epoch:  1500 Loss:  2271.354126744879\n",
      "Epoch:  2000 Loss:  2476.1025500017595\n",
      "Epoch:  2500 Loss:  2637.293300661788\n",
      "Epoch:  3000 Loss:  3460.152999344139\n",
      "Epoch:  3500 Loss:  2040.0166298066997\n",
      "Epoch:  4000 Loss:  1706.709343359241\n",
      "Epoch:  4500 Loss:  1403.8560454137262\n",
      "Epoch:  5000 Loss:  2614.6076275056166\n",
      "Epoch:  5500 Loss:  3471.6197474424894\n",
      "Epoch:  6000 Loss:  1767.1692729379586\n",
      "Epoch:  6500 Loss:  1630.6679232087586\n",
      "Epoch:  7000 Loss:  2476.37415914798\n",
      "Epoch:  7500 Loss:  3109.651023386872\n",
      "Epoch:  8000 Loss:  2301.228094645584\n",
      "Epoch:  8500 Loss:  2612.757270711755\n",
      "Epoch:  9000 Loss:  2551.3543459662533\n",
      "Epoch:  9500 Loss:  1563.0943531050664\n",
      "Ellapsed time:  37.601425647735596\n"
     ]
    },
    {
     "data": {
      "text/plain": [
       "Text(0, 0.5, 'Loss')"
      ]
     },
     "execution_count": 131,
     "metadata": {},
     "output_type": "execute_result"
    },
    {
     "data": {
      "image/png": "[encoded data removed]",
      "text/plain": [
       "<Figure size 432x288 with 1 Axes>"
      ]
     },
     "metadata": {
      "needs_background": "light"
     },
     "output_type": "display_data"
    }
   ],
   "source": [
    "# now load the data and train the model\n",
    "\n",
    "# First, we define some parameters and priors\n",
    "device = torch.device('cuda' if torch.cuda.is_available() else 'cpu')\n",
    "device = 'cpu'\n",
    "\n",
    "flow_layers = 5\n",
    "D = 3\n",
    "\n",
    "# Covariance 'matrix' of the data\n",
    "C_D = np.var(Thk_d / max_output, axis = 0)\n",
    "C_D = torch.from_numpy(C_D)\n",
    "\n",
    "# initial distribution parameters (before to the flow)\n",
    "#zmu = .75\n",
    "#zlogvar = 2*np.log(.1)\n",
    "\n",
    "# prior distribution at the end of the flow\n",
    "mu_pzk = torch.Tensor([[7.5, 170, 1.]])\n",
    "var_pzk = torch.Tensor([[1**2, 30**2, 0.5**2]])\n",
    "\n",
    "\n",
    "d = n_samples # number of data samples\n",
    "b = 10 # number of samples to approximate expectation\n",
    "epochs = 10000\n",
    "\n",
    "\n",
    "# --------------------------------------------------------------------\n",
    "\n",
    "ForwardModel =  Surrogate #G_torch() #\n",
    "ForwardModel.to(device)\n",
    "\n",
    "# process the data\n",
    "dataset = TensorDataset(torch.tensor(Thk_d).float(), torch.tensor(Thk_d).float())\n",
    "#data_loader = DataLoader(dataset, batch_size=batch_size, shuffle=True)\n",
    "thk_d = torch.tensor(Thk_d).float()\n",
    "thk_d.to(device)\n",
    "\n",
    "# initialize the model and optimizer\n",
    "NF = Flow(D, flow_layers)\n",
    "NF.to(device)\n",
    "optimizer = torch.optim.Adam(NF.parameters(), lr=1e-3)\n",
    "\n",
    "# initialize loss list\n",
    "t0 = time.time()\n",
    "loss_v = np.zeros((epochs,))\n",
    "NF.train()\n",
    "\n",
    "# train\n",
    "torch.autograd.set_detect_anomaly(False)\n",
    "\n",
    "R = 1e1 # change the ratio of losses. Greater R increases entropy of variational posterior\n",
    "B = 1 # greater B emphasizes reconstruction loss\n",
    "S = 1\n",
    "\n",
    "for epoch in range(epochs):\n",
    "    #for n, (_, thk_d) in enumerate(data_loader):\n",
    "        \n",
    "    NF.zero_grad()\n",
    "    #zMu = zmu*torch.ones((b,D), device = device)\n",
    "    #zLV = zlogvar*torch.ones((b,D), device = device)\n",
    "    _,_,_,z, lpz0, ld, lpzk = NF.forward(b, mu_pzk, var_pzk)#zMu, zLV, mu_pzk, var_pzk) \n",
    "    #print(np.shape(z))\n",
    "    inp = torch.zeros((b, 3))\n",
    "    #z[z<=0] = 1e1*z[z<=0]\n",
    "    #z[z>=5] = 1e1*z[z>=5]\n",
    "    # we need to regularize the input to the surrogate\n",
    "    inp[:,0] = (z[:,0] - offset[0,0])/scales[0,0]\n",
    "    inp[:,1] = (z[:,1] - offset[0,1])/scales[0,1]\n",
    "    inp[:,2] = (z[:,2] - offset[0,2])/scales[0,2]\n",
    "    thk_out = ForwardModel(inp)\n",
    "    #\n",
    "    #print('thk_out: ', np.shape(thk_out))\n",
    "    #print('thk_d  : ', np.shape(thk_d))\n",
    "    #print('Cd     : ', np.shape(C_D))\n",
    "    #print('diff: ', np.shape((thk_out-thk_d)/C_D))\n",
    "    #\n",
    "    #z = z[:,0]\n",
    "    \n",
    "    lr = torch.sum(-0.5*((torch.tile(thk_out, (d,1,1))-torch.tile(thk_d/max_output, (b,1,1)).swapaxes(0,1))**2 / torch.tile(C_D, (d, b, 1))), (0,2))# /max_output\n",
    "    L = -B*torch.mean(lr) - S*torch.mean(lpzk) + R*torch.mean(lpz0 - ld)\n",
    "    loss = torch.mean(L)# + torch.exp(1e6*(-torch.min(z)-0)) + torch.exp(1e6*(torch.max(z)-5)) \n",
    "    #print(np.shape(lpz0-lpzk-ld-lr))\n",
    "    \n",
    "    if torch.isnan(loss):\n",
    "        print(\"Loss is nan!\")\n",
    "        print(\"current z: \", z)\n",
    "        print(\"mu0: \", NF.mu0)\n",
    "        print(\"var0: \", NF.logvar0)\n",
    "        break\n",
    "        \n",
    "    loss.backward()\n",
    "\n",
    "    optimizer.step()\n",
    "    \n",
    "    loss_v[epoch] = loss.cpu().detach().numpy()\n",
    "        \n",
    "    # print out training progress\n",
    "    if np.mod(epoch, epochs//20)==0:\n",
    "        #\n",
    "        #print('Lpz0: ', torch.mean(lpz0))\n",
    "        #print('Log det: ', torch.mean(ld))\n",
    "        #print('Rec loss: ', torch.mean(lr))\n",
    "        #print('lpzk: ', torch.mean(lpzk))\n",
    "        #\n",
    "        print('Epoch: ', epoch, 'Loss: ', loss.cpu().detach().numpy())\n",
    "        #print('lpz0: ', lpz0)\n",
    "        #print('ld: ', ld)\n",
    "        #print('lpzk: ', lpzk)\n",
    "        #print('lr: ', lr)\n",
    "        #print('p_log_post: ', p_log_post)\n",
    "\n",
    "t_end = time.time()\n",
    "\n",
    "print(\"Ellapsed time: \", t_end-t0)\n",
    "\n",
    "# plot the loss\n",
    "plt.figure(2)\n",
    "#plt.plot(loss_v)\n",
    "plt.semilogy(loss_v)\n",
    "#plt.plot([0,epochs],[0,0],'k--')\n",
    "plt.xlabel('epoch')\n",
    "plt.ylabel('Loss')\n"
   ]
  },
  {
   "cell_type": "markdown",
   "metadata": {},
   "source": [
    "### We want to visualize the log likelihood with respect to changes in the parameters"
   ]
  },
  {
   "cell_type": "code",
   "execution_count": 132,
   "metadata": {},
   "outputs": [
    {
     "data": {
      "text/plain": [
       "<matplotlib.legend.Legend at 0x183498e20c8>"
      ]
     },
     "execution_count": 132,
     "metadata": {},
     "output_type": "execute_result"
    },
    {
     "data": {
      "image/png": "[encoded data removed]",
      "text/plain": [
       "<Figure size 432x288 with 1 Axes>"
      ]
     },
     "metadata": {
      "needs_background": "light"
     },
     "output_type": "display_data"
    },
    {
     "data": {
      "image/png": "[encoded data removed]",
      "text/plain": [
       "<Figure size 432x288 with 1 Axes>"
      ]
     },
     "metadata": {
      "needs_background": "light"
     },
     "output_type": "display_data"
    }
   ],
   "source": [
    "n_vis = 100\n",
    "b = 1\n",
    "p_v = torch.linspace(6, 8, n_vis)\n",
    "l_vis = torch.zeros((n_vis,))\n",
    "ForwardModel = Surrogate#G_torch() #\n",
    "#ForwardModel.to(device)\n",
    "for i in range(len(p_v)):\n",
    "        inp = torch.zeros((b, 3))\n",
    "        \n",
    "        # we need to regularize the input to the surrogate\n",
    "        inp[:,0] = (p_v[i] - offset[0,0])/scales[0,0]\n",
    "        inp[:,1] = (150.0 - offset[0,1])/scales[0,1]\n",
    "        inp[:,2] = (1.0 - offset[0,2])/scales[0,2]\n",
    "        thk_out = ForwardModel(inp)\n",
    "        #print('thk_out: ', np.shape(thk_out))\n",
    "        #print('thk_d:   ', np.shape(thk_d))\n",
    "        lr = torch.sum(-0.5*((torch.tile(thk_out, (d,1,1))-torch.tile(thk_d/max_output, (b,1,1)).swapaxes(0,1))**2 \\\n",
    "                             /torch.tile(C_D, (d, b, 1))), (0,2)) #  /max_output\n",
    "        l_vis[i] = torch.mean(-lr)\n",
    "        \n",
    "plt.figure(1)\n",
    "plt.semilogy(p_v.detach().numpy(), l_vis.detach().numpy())\n",
    "\n",
    "inp = torch.zeros((1, 3))\n",
    "inp[:,0] = (7.0 - offset[0,0])/scales[0,0]\n",
    "inp[:,1] = (150.0 - offset[0,1])/scales[0,1]\n",
    "inp[:,2] = (1.0 - offset[0,2])/scales[0,2]\n",
    "thk_out = ForwardModel(inp)\n",
    "plt.figure(2)\n",
    "plt.plot(thk_out[0,:].detach().numpy(), label='Forward Model')\n",
    "plt.plot(Thk[:,0], label='Truth')# / max_output, label='Truth')\n",
    "plt.legend()"
   ]
  },
  {
   "cell_type": "code",
   "execution_count": 133,
   "metadata": {
    "scrolled": true
   },
   "outputs": [
    {
     "name": "stdout",
     "output_type": "stream",
     "text": [
      "max L_recon:  tensor(-291.2044, dtype=torch.float64, grad_fn=<MaxBackward1>)\n",
      "KL:  2187.6412509522224\n",
      "Learned Model:  Flow(\n",
      "  (flow): Sequential(\n",
      "    (flow1): PlanarFlow()\n",
      "    (flow2): PlanarFlow()\n",
      "    (flow3): PlanarFlow()\n",
      "    (flow4): PlanarFlow()\n",
      "    (flow5): PlanarFlow()\n",
      "  )\n",
      ")\n",
      "L_true:  tensor([-301.2669], dtype=torch.float64, grad_fn=<SumBackward1>)\n",
      "Posterior Mean (samples):  tensor([  6.9294, 149.6554,   1.2798], grad_fn=<MeanBackward1>)\n"
     ]
    },
    {
     "data": {
      "image/png": "[encoded data removed]",
      "text/plain": [
       "<Figure size 432x288 with 3 Axes>"
      ]
     },
     "metadata": {
      "needs_background": "light"
     },
     "output_type": "display_data"
    },
    {
     "data": {
      "image/png": "[encoded data removed]",
      "text/plain": [
       "<Figure size 432x288 with 1 Axes>"
      ]
     },
     "metadata": {
      "needs_background": "light"
     },
     "output_type": "display_data"
    },
    {
     "data": {
      "image/png": "[encoded data removed]",
      "text/plain": [
       "<Figure size 432x288 with 1 Axes>"
      ]
     },
     "metadata": {
      "needs_background": "light"
     },
     "output_type": "display_data"
    }
   ],
   "source": [
    "M = 1000\n",
    "#zMu = NF.mu0*torch.ones((M,D))\n",
    "#zLV = NF.logvar0*torch.ones((M,D))\n",
    "_,_,_,z,_,_,_ = NF.forward(M, mu_pzk, var_pzk)#zMu, zLV, mu_pzk, var_pzk)\n",
    "inp = torch.zeros((M, 3))\n",
    "inp[:,0] = (z[:,0] - offset[0,0])/scales[0,0]\n",
    "inp[:,1] = (z[:,1] - offset[0,1])/scales[0,1]\n",
    "inp[:,2] = (z[:,2] - offset[0,2])/scales[0,2]\n",
    "y_out = ForwardModel(inp)\n",
    "L_recon_sample = torch.sum(-0.5*((torch.tile(y_out, (d,b,1))-torch.tile(thk_d/max_output, (b,1,1)).swapaxes(0,1))**2 / torch.tile(C_D, (d, b, 1))), (0,2))# /max_output\n",
    "print('max L_recon: ', torch.max(L_recon_sample))\n",
    "\n",
    "y_out = y_out.detach().numpy()\n",
    "plt.figure(10)\n",
    "for i in range(D):\n",
    "    plt.subplot(D, 1, i+1)\n",
    "    plt.plot((z[:,i].detach().numpy()), 'k.')\n",
    "    plt.xlabel('z%d'%(i+1))\n",
    "\n",
    "plt.figure(1)\n",
    "plt.plot(y_out[0,:] ,'.')\n",
    "plt.xlabel('sample')\n",
    "plt.ylabel('f_1(z_K)')\n",
    "\n",
    "\n",
    "print(\"KL: \", loss_v[-1])\n",
    "print(\"Learned Model: \", NF)\n",
    "\n",
    "z_true = torch.ones((1,3))\n",
    "z_true[0,0] = (7)\n",
    "z_true[0,1] = (150)\n",
    "z_true[0,2] = (1)\n",
    "z_true = torch.ones((1, 1))*(1.0)\n",
    "inp = torch.zeros((1, 3))\n",
    "inp[:,0] = (7.0 - offset[0,0])/scales[0,0]\n",
    "inp[:,1] = (150.0 - offset[0,1])/scales[0,1]\n",
    "inp[:,2] = (1.0 - offset[0,2])/scales[0,2]\n",
    "y_true = ForwardModel(inp)\n",
    "b = 1\n",
    "L_true = torch.sum(-0.5*((torch.tile(y_true, (d,b,1))-torch.tile(thk_d/max_output, (b,1,1)).swapaxes(0,1))**2 / torch.tile(C_D, (d, b, 1))), (0,2))# /max_output\n",
    "print('L_true: ', L_true)\n",
    "plt.figure(20)\n",
    "plt.plot(y_true[0,:].detach().numpy(), '.', label='truth')\n",
    "plt.plot(y_out[0,:] ,'.', label='posterior predictive sample')\n",
    "plt.legend()\n",
    "\n",
    "print('Posterior Mean (samples): ', torch.mean(z, dim=0))\n",
    "\n",
    "\n",
    "#print('Recon Loss Sample: ', L_recon_sample)\n",
    "#print('True Loss: ', L_true)"
   ]
  },
  {
   "cell_type": "code",
   "execution_count": 88,
   "metadata": {
    "scrolled": false
   },
   "outputs": [
    {
     "name": "stdout",
     "output_type": "stream",
     "text": [
      "torch.Size([1000, 1])\n"
     ]
    },
    {
     "data": {
      "text/plain": [
       "<matplotlib.legend.Legend at 0x183444d9048>"
      ]
     },
     "execution_count": 88,
     "metadata": {},
     "output_type": "execute_result"
    },
    {
     "data": {
      "image/png": "[encoded data removed]",
      "text/plain": [
       "<Figure size 432x288 with 1 Axes>"
      ]
     },
     "metadata": {
      "needs_background": "light"
     },
     "output_type": "display_data"
    },
    {
     "data": {
      "image/png": "[encoded data removed]",
      "text/plain": [
       "<Figure size 432x288 with 1 Axes>"
      ]
     },
     "metadata": {
      "needs_background": "light"
     },
     "output_type": "display_data"
    }
   ],
   "source": [
    "n_s = 1000\n",
    "ind = 2\n",
    "z_eval = np.zeros((n_s, D))\n",
    "\n",
    "z_eval[:,0] = np.random.normal(NF.mu0[0,0], torch.exp(0.5*NF.logvar0[0,0]), (n_s,))\n",
    "z_eval[:,1] = np.random.normal(NF.mu0[0,1], torch.exp(0.5*NF.logvar0[0,1]), (n_s,))\n",
    "z_eval[:,2] = np.random.normal(NF.mu0[0,2], torch.exp(0.5*NF.logvar0[0,2]), (n_s,))\n",
    "\n",
    "z_eval[:,0] = 7.\n",
    "z_eval[:,1] = 150.\n",
    "z_eval[:,2] = 1.\n",
    "\n",
    "z_eval[:,ind] = np.random.normal(NF.mu0[0,ind], torch.exp(0.5*NF.logvar0[0,ind]), (n_s,))\n",
    "\n",
    "#z_eval = np.log(z_eval) # log of the params as input\n",
    "#z_eval_bayes = np.linspace(-1.1, 1.1, n_s)\n",
    "z_eval_torch = torch.Tensor(z_eval)\n",
    "zmu0 = torch.ones((D,))*NF.mu0#*zmu\n",
    "zlogvar0 = torch.ones((D,))*NF.logvar0#*zlogvar\n",
    "sigma = torch.exp(0.5*zlogvar0)\n",
    "\n",
    "log_prob_z0 = 0\n",
    "\n",
    "zprob = np.zeros((n_s,))\n",
    "bayes_post_v = np.zeros((n_s,))\n",
    "zk = np.zeros((n_s,))\n",
    "\n",
    "zk0, zprob0 = NF.comp_prob(z_eval_torch, n_s, ind)\n",
    "\n",
    "############################################################\n",
    "z = z_eval_torch\n",
    "n = n_s#zmu.shape[0]\n",
    "sigma = torch.ones((n,NF.D))*torch.exp(0.5*NF.logvar0)#torch.exp(0.5*zlogvar)\n",
    "zlogvar = torch.ones((n, NF.D))*NF.logvar0\n",
    "zmu = torch.ones((n, NF.D))*NF.mu0\n",
    "        \n",
    "log_prob_z0 = torch.sum(- 0.5 * ((z-zmu)/sigma) ** 2, axis = 1)\n",
    "        \n",
    "\n",
    "log_det = torch.zeros((n,))\n",
    "i = 0\n",
    "for layer in NF.flow:\n",
    "    if i==(len(NF.flow)-1):\n",
    "        \n",
    "        # compute the probability of only the ind variable (planar flows)\n",
    "        dot = torch.sum(layer.w*layer.u)\n",
    "        u = layer.u + (torch.log(1+torch.exp(dot))-1-dot)*layer.w/torch.sum(layer.w**2)\n",
    "        lin = (z @ layer.w + layer.b).unsqueeze(1)\n",
    "        ld = 1 + u[ind] * layer.act_deriv(lin) * layer.w[ind] \n",
    "        print(np.shape(ld))\n",
    "        ld = ld[:,0]  \n",
    "        log_det += torch.log(torch.abs(ld))\n",
    "                \n",
    "        z, _ = layer(z)\n",
    "        zk = z[:,ind]\n",
    "    else:\n",
    "        \n",
    "        z, ld = layer(z)\n",
    "        log_det += ld\n",
    "                \n",
    "    i += 1\n",
    "    \n",
    "zk0 = zk\n",
    "zprob0 = log_prob_z0 - log_det\n",
    "\n",
    "############################################################\n",
    "\n",
    "#dtheta = z_eval_bayes[1]-z_eval_bayes[0]\n",
    "#Z = np.sum(0.5*(bayes_post_v[:-1]+bayes_post_v[1:]))*dtheta\n",
    "\n",
    "#bayes_post_v = bayes_post_v/Z # normalize\n",
    "            \n",
    "# we now sort the NF output\n",
    "#zk = np.exp(zk)\n",
    "#zk[zk<=0] = 4.9\n",
    "\n",
    "zk0 = zk0.cpu().detach().numpy()\n",
    "zprob0 = zprob0.cpu().detach().numpy()\n",
    "\n",
    "sort_inds = np.argsort(zk0)\n",
    "zk0 = zk0[sort_inds]\n",
    "zprob0 = zprob0[sort_inds]\n",
    "\n",
    "    \n",
    "# now normalize the posterior (not log posterior)\n",
    "nf_post = np.exp(zprob0+1.00)\n",
    "Z = np.sum(0.5*(nf_post[:-1]+nf_post[1:])*np.diff(zk0))\n",
    "#print(Z)\n",
    "nf_post = nf_post/Z\n",
    "\n",
    "# clip the output for better plotting\n",
    "#nf_post[nf_post > 3.0*np.max(bayes_post_v)] = 3.0*np.max(bayes_post_v)\n",
    "\n",
    "# we want to plot the initial distribution (before the flow) for reference to see how it is transformed by the flow\n",
    "xmin = np.min(zk0)\n",
    "xmax = np.max(zk0)\n",
    "xv0 = np.linspace(xmin, xmax, 1000)\n",
    "vv = np.exp(NF.logvar0[0,ind].detach().numpy())\n",
    "\n",
    "pv0 = 1/np.sqrt(2*np.pi*vv)*np.exp(-0.5*((xv0-NF.mu0[0,ind].detach().numpy())**2/vv))\n",
    "\n",
    "pvk = 1/np.sqrt(2*np.pi*var_pzk[0,ind].detach().numpy())*np.exp(-0.5*((xv0-mu_pzk[0,ind].detach().numpy())**2/var_pzk[0,ind].detach().numpy()))\n",
    "\n",
    "plt.figure(1)\n",
    "plt.plot(zk0, zprob0)\n",
    "#plt.ylim([-1e4, 1e3])\n",
    "plt.figure(2)\n",
    "#plt.plot(z_eval_bayes, bayes_post_v, label=\"Bayesian Posterior\")\n",
    "plt.plot(zk0, nf_post, label=\"NF Posterior\")\n",
    "plt.plot(np.array([Qmin, Qmin]), np.array([0, np.max(nf_post)]), 'k--', label = r'$\\theta^*$')\n",
    "plt.plot(np.array([NF.mu0[0,ind], NF.mu0[0,ind]]), np.array([0, np.max(nf_post)]), 'r--', label = r'$\\mu_0(\\theta_0)$')\n",
    "plt.plot(xv0, pv0, 'r', label = r'$p_0(\\theta_0)$')\n",
    "plt.plot(xv0, pvk, 'g', label = r'$p_K(\\theta_K)$ (prior)')\n",
    "plt.xlim([0, 2])\n",
    "plt.xlabel(r'$Q_{min}$')\n",
    "plt.ylabel(r'$p(Q_{min})$')\n",
    "plt.title('Inference with normalizing flows')\n",
    "\n",
    "plt.legend()\n",
    "\n",
    "\n"
   ]
  },
  {
   "cell_type": "markdown",
   "metadata": {},
   "source": [
    "## Below here are test blocks"
   ]
  },
  {
   "cell_type": "code",
   "execution_count": 200,
   "metadata": {},
   "outputs": [
    {
     "name": "stdout",
     "output_type": "stream",
     "text": [
      "[[ 0.          0.33333333  0.66666667  1.        ]\n",
      " [-1.         -0.66666667 -0.33333333  0.        ]]\n"
     ]
    }
   ],
   "source": [
    "n = 4\n",
    "x = np.array([np.linspace(0, 1, n), np.linspace(-1, 0, n)])\n",
    "print(x)"
   ]
  },
  {
   "cell_type": "code",
   "execution_count": 86,
   "metadata": {},
   "outputs": [
    {
     "name": "stdout",
     "output_type": "stream",
     "text": [
      "tensor([[ 0.0788, -0.0968, -0.3643,  0.5513, -1.3332]])\n",
      "tensor([[[ 0.0788, -0.0968, -0.3643,  0.5513, -1.3332],\n",
      "         [ 0.0788, -0.0968, -0.3643,  0.5513, -1.3332]],\n",
      "\n",
      "        [[ 0.0788, -0.0968, -0.3643,  0.5513, -1.3332],\n",
      "         [ 0.0788, -0.0968, -0.3643,  0.5513, -1.3332]],\n",
      "\n",
      "        [[ 0.0788, -0.0968, -0.3643,  0.5513, -1.3332],\n",
      "         [ 0.0788, -0.0968, -0.3643,  0.5513, -1.3332]]])\n"
     ]
    }
   ],
   "source": [
    "x = torch.normal(0, 1, (1, 5))\n",
    "print(x)\n",
    "print(x.repeat(3, 2, 1))"
   ]
  },
  {
   "cell_type": "code",
   "execution_count": 402,
   "metadata": {},
   "outputs": [
    {
     "name": "stdout",
     "output_type": "stream",
     "text": [
      "torch.Size([3, 2, 4])\n",
      "tensor([[[0., 1., 2., 3.],\n",
      "         [4., 5., 6., 7.]],\n",
      "\n",
      "        [[0., 1., 2., 3.],\n",
      "         [4., 5., 6., 7.]],\n",
      "\n",
      "        [[0., 1., 2., 3.],\n",
      "         [4., 5., 6., 7.]]])\n",
      "torch.Size([3, 2, 4])\n",
      "tensor([[[0., 1., 2., 3.],\n",
      "         [0., 1., 2., 3.]],\n",
      "\n",
      "        [[0., 1., 2., 3.],\n",
      "         [0., 1., 2., 3.]],\n",
      "\n",
      "        [[0., 1., 2., 3.],\n",
      "         [0., 1., 2., 3.]]])\n",
      "torch.Size([3, 2, 4])\n",
      "tensor([[[ 0.,  1.,  2.,  3.],\n",
      "         [ 0.,  1.,  2.,  3.]],\n",
      "\n",
      "        [[ 4.,  5.,  6.,  7.],\n",
      "         [ 4.,  5.,  6.,  7.]],\n",
      "\n",
      "        [[ 9., 10., 11., 12.],\n",
      "         [ 9., 10., 11., 12.]]])\n",
      "torch.Size([21])\n"
     ]
    }
   ],
   "source": [
    "x0 = torch.linspace(0, 3, 4)\n",
    "x = torch.Tensor([[0,1,2,3],[4,5,6,7]])\n",
    "x = torch.tile(x, (3, 1, 1))\n",
    "print(np.shape(x))\n",
    "print(x)\n",
    "x = torch.tile(x0, (3, 2, 1))\n",
    "print(np.shape(x))\n",
    "print(x)\n",
    "x = torch.Tensor([[0,1,2,3],[4,5,6,7],[9,10,11,12]])\n",
    "x = torch.tile(x, (2, 1, 1)).swapaxes(0,1)\n",
    "print(np.shape(x))\n",
    "print(x)\n",
    "print(np.shape(C_D))"
   ]
  },
  {
   "cell_type": "code",
   "execution_count": 294,
   "metadata": {},
   "outputs": [
    {
     "name": "stdout",
     "output_type": "stream",
     "text": [
      "Sequential(\n",
      "  (flow1): PlanarFlow()\n",
      "  (flow2): PlanarFlow()\n",
      "  (flow3): PlanarFlow()\n",
      "  (flow4): PlanarFlow()\n",
      "  (flow5): PlanarFlow()\n",
      "  (flow6): PlanarFlow()\n",
      "  (flow7): PlanarFlow()\n",
      "  (flow8): PlanarFlow()\n",
      "  (flow9): PlanarFlow()\n",
      "  (flow10): PlanarFlow()\n",
      ")\n"
     ]
    }
   ],
   "source": [
    "print(NF.flow)"
   ]
  },
  {
   "cell_type": "code",
   "execution_count": null,
   "metadata": {},
   "outputs": [],
   "source": []
  }
 ],
 "metadata": {
  "kernelspec": {
   "display_name": "Python 3",
   "language": "python",
   "name": "python3"
  },
  "language_info": {
   "codemirror_mode": {
    "name": "ipython",
    "version": 3
   },
   "file_extension": ".py",
   "mimetype": "text/x-python",
   "name": "python",
   "nbconvert_exporter": "python",
   "pygments_lexer": "ipython3",
   "version": "3.8.10"
  }
 },
 "nbformat": 4,
 "nbformat_minor": 5
}
