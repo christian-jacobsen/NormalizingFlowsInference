{
 "cells": [
  {
   "cell_type": "markdown",
   "metadata": {},
   "source": [
    "# Variational Inference Methods\n",
    "\n",
    "This notebook is intended to compare three different variational inference methods for approximating complex posterior distributions. The three methods investigated are:\n",
    "\n",
    "- Fixed-form Variational Inference (FFVI)\n",
    "- Boosting Variational Inference (BVI)\n",
    "- Normalizing Flows for Variational Inference (NFVI)\n",
    "\n",
    "## Overview of Variational Inference\n",
    "\n",
    "## Boosting Variational Inference\n",
    "\n",
    "## Normalizing Flows"
   ]
  },
  {
   "cell_type": "code",
   "execution_count": 108,
   "metadata": {},
   "outputs": [],
   "source": [
    "import torch\n",
    "import math\n",
    "import torch.nn as nn\n",
    "import numpy as np\n",
    "import matplotlib.pyplot as plt\n",
    "from scipy import special\n",
    "from scipy.optimize import minimize\n",
    "from torch.utils.data import DataLoader, TensorDataset\n",
    "import scipy"
   ]
  },
  {
   "cell_type": "markdown",
   "metadata": {},
   "source": [
    "## Model\n",
    "\n",
    "Our model is as follows:\n",
    "\\begin{equation}\n",
    "y(\\theta;a) = \n",
    "\\begin{cases}\n",
    "  0,& \\; -a\\leq \\theta \\leq a \\\\\n",
    "  \\theta, & \\text{else}\n",
    "\\end{cases}\n",
    "\\end{equation}\n",
    "\n",
    "Where $\\theta \\sim p_D(\\theta)$ and $a \\geq 0$. \n",
    "\n",
    "### Data Generation\n",
    "$d$ data samples are generated in the form of $\\{ y_i \\}_{i=1}^d$ by generating $d$ samples $\\{\\theta_i \\}_{i=1}^d$ and computing $y_i$ for each sample. \n",
    "\n",
    "Here, we use $a = 1$ and $p_D(\\theta) = N(\\mu_D, \\sigma^2_D)$"
   ]
  },
  {
   "cell_type": "code",
   "execution_count": 109,
   "metadata": {},
   "outputs": [],
   "source": [
    "# Define our model (a >= 0 is not checked)\n",
    "def model(theta):\n",
    "    a = 1.0\n",
    "    if ((theta <= a) and (theta >= -a)):\n",
    "        return 0\n",
    "    else:\n",
    "        return (theta)"
   ]
  },
  {
   "cell_type": "code",
   "execution_count": 151,
   "metadata": {},
   "outputs": [
    {
     "data": {
      "text/plain": [
       "(Text(0.5, 0, 'theta'), Text(0, 0.5, 'f'))"
      ]
     },
     "execution_count": 151,
     "metadata": {},
     "output_type": "execute_result"
    },
    {
     "data": {
      "image/png": "[encoded data removed]",
      "text/plain": [
       "<Figure size 432x288 with 2 Axes>"
      ]
     },
     "metadata": {
      "needs_background": "light"
     },
     "output_type": "display_data"
    },
    {
     "data": {
      "image/png": "[encoded data removed]",
      "text/plain": [
       "<Figure size 432x288 with 1 Axes>"
      ]
     },
     "metadata": {
      "needs_background": "light"
     },
     "output_type": "display_data"
    }
   ],
   "source": [
    "# Define the data generation parameters and generate data\n",
    "\n",
    "n_samples = 100\n",
    "\n",
    "mu_d = 0.75   # data generation mean\n",
    "var_d = 0.0  # data generation variance\n",
    "\n",
    "l_bound = -1.1\n",
    "r_bound = 1.1\n",
    "\n",
    "theta_d = np.random.normal(mu_d, np.sqrt(var_d), n_samples)\n",
    "y_d = np.zeros(np.shape(theta_d))\n",
    "\n",
    "var_xi = 0.05\n",
    "for i in range(n_samples):\n",
    "    y_d[i] = model(theta_d[i]) + np.random.normal(0,var_xi)\n",
    "\n",
    "plt.figure(1)\n",
    "plt.subplot(1,2,1)\n",
    "plt.plot(theta_d, '.'), plt.xlabel('sample'), plt.ylabel('theta')\n",
    "plt.subplot(1,2,2)\n",
    "plt.plot(y_d, '.'), plt.xlabel('sample'), plt.ylabel('y')\n",
    "\n",
    "theta_v = np.linspace(-3, 3, 1000)\n",
    "y_v = np.zeros(np.shape(theta_v))\n",
    "for i in range(1000):\n",
    "    y_v[i] = model(theta_v[i]) \n",
    "    \n",
    "plt.figure(2)\n",
    "plt.plot(theta_v, y_v)\n",
    "plt.xlabel('theta'), plt.ylabel('f')\n"
   ]
  },
  {
   "cell_type": "markdown",
   "metadata": {},
   "source": [
    "### Likelihood Model\n",
    "\n",
    "We assume that all data is i.i.d and thus\n",
    "\\begin{equation}\n",
    "p(D|\\theta) = \\prod_{i=1}^d p(y_i|\\theta)\n",
    "\\end{equation}\n",
    "\n",
    "Where $p(y_i|\\theta) = N(y_i; y(\\theta), C_D)$ and $C_D$ is the covariance matrix of the data $\\{ y_i \\}_{i=1}^D$"
   ]
  },
  {
   "cell_type": "code",
   "execution_count": 152,
   "metadata": {},
   "outputs": [],
   "source": [
    "def logLike(y_d, theta, model):\n",
    "    # y_d is the data of shape (d,)\n",
    "    # theta is a scalar [ p(D|theta) ]\n",
    "    # model is a previously defined function for the model\n",
    "    \n",
    "    # Function returns a quantity offset from the true log likelihood (but can be used for optimization purposes,\n",
    "      # and thus for variational inference methods)\n",
    "    \n",
    "    C_D = np.var(y_d)\n",
    "    s = 0\n",
    "    for i in range(np.shape(y_d)[0]):\n",
    "        m = model(theta)\n",
    "        s -= 0.5*(y_d[i] - m)**2 / C_D\n",
    "        \n",
    "    return s\n",
    "\n",
    "def prior(theta):\n",
    "    return np.exp(-theta**2/2)/np.sqrt(2*np.pi)"
   ]
  },
  {
   "cell_type": "markdown",
   "metadata": {},
   "source": [
    "## Fixed-Form Variational Inference (FFVI)"
   ]
  },
  {
   "cell_type": "markdown",
   "metadata": {},
   "source": [
    "We approximate the Bayesian posterior $p(\\theta|D)$ with a variational posterior $q(\\theta)$ of fixed-form. In this tutorial, we assume a Gaussian form on $q(\\theta)$ such that\n",
    "\\begin{equation}\n",
    "q(\\theta) = N(\\theta; \\mu_q, \\sigma_q^2)\n",
    "\\end{equation}\n",
    "\n",
    "We find the variational posterior of this form which is 'closest' to the Bayesian posterior. We define 'closeness' by using the KL divergence, or relative entropy. Yhe optimal variational posterior $q^*(\\theta) = N(\\mu_q^*, \\sigma_q^{*2})$ is found by solving the minimization problem\n",
    "\n",
    "\\begin{equation}\n",
    "\\mu_q^*, \\sigma_q^{*2} = \\text{argmin}_{\\mu_q, \\sigma_q^2} D_{KL}[q(\\theta)||p(\\theta|D)]\n",
    "\\end{equation}"
   ]
  },
  {
   "cell_type": "code",
   "execution_count": 153,
   "metadata": {},
   "outputs": [
    {
     "data": {
      "text/plain": [
       "[<matplotlib.lines.Line2D at 0x1d0c4c6c548>]"
      ]
     },
     "execution_count": 153,
     "metadata": {},
     "output_type": "execute_result"
    },
    {
     "data": {
      "image/png": "[encoded data removed]",
      "text/plain": [
       "<Figure size 432x288 with 1 Axes>"
      ]
     },
     "metadata": {
      "needs_background": "light"
     },
     "output_type": "display_data"
    }
   ],
   "source": [
    "# integral (indefinite) of theta w.r.t. gaussian\n",
    "\n",
    "def int_1(mu, var, theta):\n",
    "    return -np.sqrt(var/(2*np.pi))*np.exp(-0.5*(theta-mu)**2/var) - 0.5*mu*scipy.special.erf((mu-theta)/np.sqrt(2*var))\n",
    "    \n",
    "# integral (indefinite) of theta^2 w.r.t. gaussian\n",
    "\n",
    "def int_2(mu, var, theta):\n",
    "    return -np.sqrt(var/(2*np.pi))*(theta+mu)*np.exp(-0.5*(theta-mu)**2/var) - 0.5*(var+mu**2)*scipy.special.erf((mu-theta)/np.sqrt(2*var))\n",
    "    \n",
    "\n",
    "# define the relative entropy computation\n",
    "\n",
    "def KL(mu, var, y_d):\n",
    "    # mu is mean of variational posterior\n",
    "    # var is variance of variational posterior\n",
    "    # y_d is data\n",
    "    \n",
    "    C_D = np.var(y_d)\n",
    "        \n",
    "    D = -np.log(np.sqrt(var)) # differential entropy of q(theta)\n",
    "    \n",
    "    D = D + 0.5*n_samples*( int_2(mu,var,-1) + mu**2 + var - int_2(mu,var,1) )/C_D\n",
    "    D = D - np.sum(y_d)*( int_1(mu,var,-1) + mu - int_1(mu,var,1) )/C_D\n",
    "    \n",
    "    D = D + (0.5*var+0.5*mu**2) # (prior of N(0,1))\n",
    "    \n",
    "    return D\n",
    "\n",
    "def optim(p):\n",
    "    # input p[0] = mu\n",
    "    # input p[1] = log_var\n",
    "    if p[1]>0:\n",
    "        return KL(p[0], p[1], y_d)\n",
    "    else:\n",
    "        return 1e30\n",
    "\n",
    "# plot the KL surface with fixed variance\n",
    "var = .001\n",
    "mu = np.linspace(-2, 6, 1000)\n",
    "KL_v = np.zeros(np.shape(mu))\n",
    "\n",
    "\n",
    "for i in range(1000):\n",
    "    KL_v[i] = KL(mu[i], var, y_d)\n",
    "\n",
    "plt.figure(4)\n",
    "plt.plot(mu, KL_v)\n",
    "    "
   ]
  },
  {
   "cell_type": "code",
   "execution_count": 154,
   "metadata": {},
   "outputs": [
    {
     "name": "stdout",
     "output_type": "stream",
     "text": [
      "Mean:  4.314623936719122e-05\n",
      "Var:  0.04331359182467463\n"
     ]
    }
   ],
   "source": [
    "# Fixed-form variational inference\n",
    "\n",
    "p0 = [1.4, .01]\n",
    "res = minimize(optim, p0, method='nelder-mead')\n",
    "\n",
    "print(\"Mean: \", res.x[0])\n",
    "print(\"Var: \", res.x[1])"
   ]
  },
  {
   "cell_type": "code",
   "execution_count": 155,
   "metadata": {},
   "outputs": [
    {
     "data": {
      "text/plain": [
       "(Text(0.5, 0, 'theta'), Text(0, 0.5, 'p(theta)'))"
      ]
     },
     "execution_count": 155,
     "metadata": {},
     "output_type": "execute_result"
    },
    {
     "data": {
      "image/png": "[encoded data removed]",
      "text/plain": [
       "<Figure size 432x288 with 1 Axes>"
      ]
     },
     "metadata": {
      "needs_background": "light"
     },
     "output_type": "display_data"
    }
   ],
   "source": [
    "# plot the bayesian posterior vs the FFVI posterior\n",
    "\n",
    "theta_v = np.linspace(l_bound, r_bound, 1000)\n",
    "bayes_post_v = np.zeros(np.shape(theta_v))\n",
    "ffvi_post_v = np.zeros(np.shape(theta_v))\n",
    "for i in range(len(theta_v)):\n",
    "    bayes_post_v[i] = np.exp(logLike(y_d, theta_v[i], model))*prior(theta_v[i])\n",
    "    ffvi_post_v[i] = np.exp(-0.5*((theta_v[i]-res.x[0])**2/res.x[1]))/np.sqrt(2*np.pi*res.x[1])\n",
    "\n",
    "dtheta = theta_v[1]-theta_v[0]\n",
    "Z = np.sum(0.5*(bayes_post_v[:-1]+bayes_post_v[1:]))*dtheta\n",
    "\n",
    "bayes_post_v = bayes_post_v/Z # normalize\n",
    "    \n",
    "plt.figure(4)\n",
    "plt.plot(theta_v, bayes_post_v, label=\"Bayesian Posterior\")\n",
    "plt.plot(theta_v, ffvi_post_v, label=\"FFVI Posterior\")\n",
    "plt.plot(np.array([mu_d, mu_d]), np.array([0, np.max(bayes_post_v)]), 'k--', label = r'$\\theta^*$')\n",
    "plt.legend()\n",
    "plt.xlabel(\"theta\"), plt.ylabel(\"p(theta)\")\n"
   ]
  },
  {
   "cell_type": "markdown",
   "metadata": {},
   "source": [
    "## Boosting Variational Inference\n",
    "\n",
    "In BVI, we iteratively refine an initial estimate of the Bayesian posterior by adding new components to the distribution to form a mixture of the specified base distributions. For example, an initial estimate of the Bayesian posterior is given by\n",
    "\\begin{equation}\n",
    "  q_0(\\theta)\n",
    "\\end{equation}\n",
    "This initial approximation can be assumed or perhaps computed using FFVI. The distribution is then iteratively refined by adding a new component to the distribution at each step:\n",
    "\\begin{equation}\n",
    "  q_t(\\theta) = (1-\\alpha_t)q_{t-1}(\\theta) + \\alpha_t h_t(\\theta)\n",
    "\\end{equation}\n",
    "Where $h_t$ is a distribution within the allowable class of distributions (e.g. normal) and $\\alpha_t$ is the relative weighting between the current mixture and the new mixture component. \n",
    "\n",
    "The goal is to minimize KL divergence iteratively. However, solving for both $h_t$ and $\\alpha_t$ at the same time is non-convex and unstable. Using a Gaussian family as the base class, $h_t$ is found by a laplace approximation where the mean $\\mu_t$ of $h_t$ is found to be\n",
    "\\begin{equation}\n",
    "\\mu_t = \\textrm{argmax}_{\\mu_t} \\log \\frac{p(D|\\theta)p(\\theta)}{q_{t-1}(\\theta)}\n",
    "\\end{equation}\n",
    "\n",
    "This process is described in more detail in: \"Boosting Variational Inference\" (Guo et al. 2017)\n",
    "\n"
   ]
  },
  {
   "cell_type": "code",
   "execution_count": 156,
   "metadata": {},
   "outputs": [],
   "source": [
    "# Define the target function to minimize for finding the mean (Laplace approx.)\n",
    "\n",
    "def mu_laplace(theta, mu_t, var_t, alpha_t, t):\n",
    "    logq = np.exp(-0.5*(mu_t[0]-theta)**2/var_t[0])/np.sqrt(2*np.pi*var_t[0])\n",
    "    for i in range(t):\n",
    "        logq = alpha_t[i+1]*np.exp(-0.5*(mu_t[i+1]-theta)**2/var_t[i+1])/np.sqrt(2*np.pi*var_t[i+1])+(1-alpha_t[i+1])*logq\n",
    "        \n",
    "    logq = np.log(logq+1e-38)\n",
    "    return logq - logLike(y_d, theta, model) - np.log(prior(theta))\n",
    "\n",
    "\n",
    "# Function for easier computing of quantities during SGD\n",
    "\n",
    "def gamma_t(mu_t, var_t, alpha_t, t, theta):\n",
    "    q = np.exp(-0.5*(mu_t[0]-theta)**2/var_t[0])/np.sqrt(2*np.pi*var_t[0])\n",
    "    for i in range(t):\n",
    "        q = alpha_t[i+1]*np.exp(-0.5*(mu_t[i+1]-theta)**2/var_t[i+1])/np.sqrt(2*np.pi*var_t[i+1])+(1-alpha_t[i+1])*q\n",
    "\n",
    "    h = np.exp(-0.5*(mu_t[t+1]-theta)**2/var_t[t+1])/np.sqrt(2*np.pi*var_t[t+1])\n",
    "    #if (t > 0):\n",
    "        #print(\"q: \", q)\n",
    "        #print(\"h: \", h)\n",
    "        #print(\"alpha: \", alpha_t[t+1])\n",
    "    return np.log((1-alpha_t[t+1])*q + alpha_t[t+1]*h + 1e-60) - logLike(y_d, theta, model) - np.log(prior(theta))\n",
    "\n",
    "\n",
    "# SGD for finding step size (alpha)\n",
    "\n",
    "def SGD_alpha(mu_t, var_t, alpha_t, t, b, tol, n):\n",
    "    # mu_t = list of means of components\n",
    "    # var_t = list of vars of components\n",
    "    # alpha_t = list of weights\n",
    "    # t = current iteration\n",
    "    # b = initial step size\n",
    "    # tol = convergence tolerence\n",
    "    # n = number of MC samples for expectation approximation\n",
    "    \n",
    "    alpha_new = 0\n",
    "    alpha_old = 2\n",
    "    alpha_t[t+1] = alpha_new # store the new alpha in vector\n",
    "    k = 0\n",
    "    \n",
    "    while np.abs(alpha_new - alpha_old) > tol:\n",
    "    \n",
    "        # draw samples from new component\n",
    "        theta_h = np.random.normal(mu_t[t+1], np.sqrt(var_t[t+1]), n) \n",
    "    \n",
    "        # draw samples from old component\n",
    "        theta_q = np.zeros(n)\n",
    "        for i in range(n):\n",
    "            partition = np.random.uniform(0,1,1)\n",
    "            for j in range(t+1):\n",
    "                if (partition <= alpha_t[j]*np.prod(1-alpha_t[j+1:t+1])):\n",
    "                    theta_q[i] = np.random.normal(mu_t[j], np.sqrt(var_t[j]))\n",
    "                    break\n",
    "    \n",
    "        # compute the gradient of KL \n",
    "        s = 0\n",
    "        for i in range(n):\n",
    "            s += gamma_t(mu_t, var_t, alpha_t, t, theta_h[i]) \\\n",
    "               - gamma_t(mu_t, var_t, alpha_t, t, theta_q[i])\n",
    "        \n",
    "        s = s / n\n",
    "        \n",
    "        k += 1 # increment the step number\n",
    "        alpha_old = alpha_new\n",
    "        alpha_new = alpha_old - b*s/k\n",
    "        \n",
    "        # bound the update\n",
    "        #alpha_new = np.max(np.min(alpha_new,1),0) \n",
    "        if alpha_new > 1:\n",
    "            alpha_new = 1\n",
    "        if alpha_new < 0:\n",
    "            alpha_new = 0\n",
    "            \n",
    "        alpha_t[t+1] = alpha_new\n",
    "        \n",
    "    return alpha_new\n",
    "    \n",
    "    \n",
    "    \n",
    "    \n",
    "    \n",
    "    "
   ]
  },
  {
   "cell_type": "code",
   "execution_count": 157,
   "metadata": {
    "scrolled": true
   },
   "outputs": [
    {
     "name": "stdout",
     "output_type": "stream",
     "text": [
      "Means:  [ 4.31462394e-05 -9.99995396e-01 -9.99997091e-01  9.99992916e-01\n",
      " -9.99999890e-01  9.99999074e-01 -7.18841047e-01  9.99998778e-01\n",
      "  9.99998778e-01 -6.23935005e-01 -5.58341173e-01  7.16770042e-01\n",
      "  6.16035939e-01 -5.06035907e-01 -4.59846373e-01 -4.16759558e-01\n",
      "  5.52869352e-01  5.02988883e-01  4.54934174e-01  4.08913940e-01\n",
      "  3.70134758e-01  6.60762713e-01  5.81742554e-01 -3.79991971e-01\n",
      "  3.69985174e-01  3.69985174e-01  8.08474606e-01  8.60203188e-01\n",
      " -8.04760394e-01  3.69630073e-01 -6.73517090e-01  5.29975810e-01\n",
      "  4.76674160e-01 -3.79443894e-01 -3.79317938e-01  8.98958467e-01\n",
      " -8.59264351e-01 -7.58945045e-01 -5.90301824e-01 -5.29430676e-01\n",
      "  4.23990076e-01 -4.79360648e-01 -4.30885366e-01 -3.76874271e-01\n",
      "  3.58735929e-01  7.67639395e-01  9.43214821e-01  8.39166240e-01\n",
      "  6.85352566e-01  7.41644229e-01 -4.32349232e-01 -3.72347573e-01\n",
      " -3.72066496e-01 -3.71860327e-01 -3.71654158e-01  3.58513763e-01\n",
      " -5.30512096e-01  3.58462360e-01  3.58229362e-01  3.58176307e-01\n",
      " -9.02478329e-01 -7.10659880e-01  3.57965432e-01  3.57813987e-01\n",
      " -6.47545856e-01 -5.71422773e-01 -4.35025770e-01 -3.55908449e-01\n",
      " -3.55624727e-01 -7.31268843e-01 -7.00765302e-01 -6.12322427e-01\n",
      "  6.39803227e-01  5.61389291e-01  9.99996708e-01  5.21893584e-01\n",
      "  6.02873961e-01  5.21852021e-01 -3.55486492e-01 -3.55201342e-01\n",
      " -3.54916193e-01 -3.54700388e-01 -3.54446319e-01 -4.37971334e-01\n",
      " -4.37971334e-01  3.57587005e-01  3.57335360e-01 -3.36613073e-01\n",
      "  3.57105207e-01 -3.36295223e-01  7.12159879e-01  6.67008301e-01\n",
      "  6.02769555e-01  4.77660387e-01  3.56853602e-01  3.56853602e-01\n",
      "  3.56853602e-01  3.56655680e-01 -3.36317733e-01 -3.36032669e-01]\n",
      "Vars:  [4.33135918e-02 8.66271836e-03 8.66271836e-03 8.66271836e-03\n",
      " 8.66271836e-03 8.66271836e-03 1.05340902e-03 8.66271836e-03\n",
      " 8.66271836e-03 4.53556454e-04 3.12011353e-04 1.04838797e-03\n",
      " 4.26440331e-04 3.00365171e-04 3.72419882e-04 5.88397633e-04\n",
      " 3.08575929e-04 3.17222673e-04 3.81878193e-04 5.61245026e-04\n",
      " 1.37720851e-03 1.30173767e-04 1.21989951e-04 1.60159813e-03\n",
      " 1.99709510e-03 2.02171564e-03 3.05964577e-04 2.05476213e-04\n",
      " 3.30340844e-04 3.41159460e-03 1.59734875e-04 1.96797665e-04\n",
      " 3.21337556e-04 3.81162347e-03 4.27909567e-03 2.58252309e-04\n",
      " 2.09501025e-04 1.43865575e-04 1.14384841e-04 1.55743830e-04\n",
      " 8.99976214e-04 3.40766856e-04 9.93184689e-04 4.95419517e-03\n",
      " 2.90996619e-03 1.13233756e-04 4.99920568e-04 9.56479881e-05\n",
      " 1.34167642e-04 1.42690458e-04 1.05330101e-03 5.38813687e-03\n",
      " 6.68557423e-03 7.39758822e-03 8.46479166e-03 3.84987065e-03\n",
      " 1.64340540e-04 3.89545707e-03 5.06602758e-03 5.17177662e-03\n",
      " 2.36943773e-04 5.33686918e-04 6.25252071e-03 7.07394187e-03\n",
      " 1.08830691e-04 1.84669890e-04 1.24825263e-03 1.00530799e-02\n",
      " 1.15262230e-02 1.89644667e-04 2.15077012e-04 2.20679241e-04\n",
      " 1.08118221e-04 2.36481862e-04 8.66271836e-03 6.24163739e-04\n",
      " 2.14259735e-04 7.08367128e-04 1.24455696e-02 1.36801969e-02\n",
      " 1.50293767e-02 1.65170112e-02 1.77998210e-02 2.23689671e-03\n",
      " 2.23689671e-03 7.96735829e-03 9.24900525e-03 2.05254828e-02\n",
      " 1.05264586e-02 2.17892269e-02 1.91494057e-04 4.40752462e-04\n",
      " 6.87665859e-04 7.77397300e-04 1.17482723e-02 1.18055884e-02\n",
      " 1.19595005e-02 1.30078589e-02 2.17992844e-02 2.27666463e-02]\n",
      "Alphas:  [1.00000000e+00 0.00000000e+00 0.00000000e+00 0.00000000e+00\n",
      " 4.99528101e-02 0.00000000e+00 1.76373124e-02 0.00000000e+00\n",
      " 5.10777458e-02 2.36709668e-02 2.00067347e-02 2.82861301e-02\n",
      " 2.07985421e-02 1.32635836e-02 9.40739351e-03 7.22022625e-03\n",
      " 1.35930044e-02 1.50168872e-02 1.22545563e-02 7.82808741e-03\n",
      " 3.53154768e-03 8.80071415e-03 7.54587500e-03 7.31253396e-03\n",
      " 1.63035512e-04 6.36863840e-03 1.96778681e-02 8.87972033e-03\n",
      " 2.07039842e-02 2.63122370e-03 1.33041776e-02 4.74563084e-03\n",
      " 4.29344390e-03 2.09427399e-03 5.68364307e-03 1.05336093e-02\n",
      " 1.54905621e-02 1.28604960e-02 7.47060848e-03 2.33570389e-04\n",
      " 5.39681104e-03 5.94203892e-03 4.32543666e-04 5.57098879e-03\n",
      " 4.40258038e-03 9.87998430e-03 5.33559366e-03 7.09117481e-03\n",
      " 7.54868827e-03 6.94967534e-03 9.74368238e-04 4.79492524e-03\n",
      " 2.69167211e-03 3.86809988e-03 1.17080520e-03 1.85335064e-04\n",
      " 6.95355529e-03 4.83880187e-03 4.32013127e-04 4.29806159e-03\n",
      " 9.85641588e-03 8.67708071e-03 3.15832311e-03 3.10129108e-03\n",
      " 5.42378994e-03 5.11451880e-03 4.34566633e-03 4.13126765e-03\n",
      " 2.63595206e-03 3.21506511e-03 3.12050925e-03 5.43722022e-03\n",
      " 6.16479006e-03 5.74380534e-03 4.58646131e-03 8.55430176e-04\n",
      " 3.18558467e-03 4.75021757e-03 2.96067432e-03 3.10727366e-03\n",
      " 3.53978301e-03 2.65890516e-03 3.30811899e-03 0.00000000e+00\n",
      " 3.41127618e-03 3.92499216e-03 3.70188414e-03 3.78211325e-03\n",
      " 3.22755090e-03 0.00000000e+00 5.64568162e-03 3.64932294e-03\n",
      " 4.23844568e-03 1.67338168e-03 2.05329359e-04 5.47682818e-04\n",
      " 2.50385964e-03 3.07999166e-03 2.91804524e-03 1.80772839e-03]\n"
     ]
    },
    {
     "data": {
      "text/plain": [
       "<Figure size 432x288 with 0 Axes>"
      ]
     },
     "metadata": {},
     "output_type": "display_data"
    }
   ],
   "source": [
    "# We can use the distribution found in FFVI as the initial approximation\n",
    "\n",
    "# set some parameters for SGD\n",
    "b = 5e-3\n",
    "tol = 1e-2\n",
    "n = 1\n",
    "\n",
    "T = 100 # number of iterations\n",
    "\n",
    "mu_t = np.zeros(T)\n",
    "mu_t[0] = res.x[0]\n",
    "var_t = np.zeros(T)\n",
    "var_t[0] = res.x[1]\n",
    "alpha_t = np.zeros(T)\n",
    "alpha_t[0] = 1\n",
    "\n",
    "dtheta = 1e-5 # for finite difference approximation of the Hessian\n",
    "\n",
    "plt.figure(9)\n",
    "\n",
    "for i in range(T-1):\n",
    "    #print(i)\n",
    "    \n",
    "    # first sample from the current distribution (gaussian mixture)\n",
    "    partition = np.random.uniform(0,1,1)\n",
    "    for j in range(i+1):\n",
    "        if (partition <= alpha_t[j]*np.prod(1-alpha_t[j+1:i+1])):\n",
    "            theta0 = np.random.normal(mu_t[j], np.sqrt(var_t[j]))\n",
    "            break\n",
    "    \n",
    "    # now find the maximum discrepency measure as the mean of the next component in the mixture\n",
    "    res_boosting = minimize(mu_laplace, theta0, args=(mu_t, var_t, alpha_t, i), method='nelder-mead')\n",
    "    \n",
    "    # assign the new mean\n",
    "    mu_t[i+1] = res_boosting.x\n",
    "    \n",
    "    # find the variance of the component using the Hessian (second-derivative in 1D)\n",
    "    H = (-2*mu_laplace(mu_t[i+1], mu_t, var_t, alpha_t, i) \\\n",
    "         +mu_laplace(mu_t[i+1]+dtheta, mu_t, var_t, alpha_t, i) \\\n",
    "         +mu_laplace(mu_t[i+1]-dtheta, mu_t, var_t, alpha_t, i))/(dtheta**2)\n",
    "    \n",
    "    #th_v = np.linspace(mu_t[i+1] - 10*dtheta, mu_t[i+1]+10*dtheta, 100)\n",
    "    #h_v = np.zeros(np.shape(th_v))\n",
    "    #for k in range(len(th_v)):\n",
    "        #h_v[k] = mu_laplace(th_v[k], mu_t, var_t, alpha_t, i)\n",
    "    #plt.subplot(T-1, 1, i+1)\n",
    "    #plt.plot(th_v, h_v)\n",
    "    \n",
    "    # assign the computed variance\n",
    "    var_t[i+1] = 1/(2*H)\n",
    "    if var_t[i+1] < 1e-5:\n",
    "        var_t[i+1] = var_t[0] / 5\n",
    "    \n",
    "    # find the new weight\n",
    "    alpha_t[i+1] = SGD_alpha(mu_t, var_t, alpha_t, i, b, tol, n)\n",
    "    \n",
    "    \n",
    "\n",
    "print(\"Means: \", mu_t)\n",
    "print(\"Vars: \", var_t)\n",
    "print(\"Alphas: \", alpha_t)\n"
   ]
  },
  {
   "cell_type": "code",
   "execution_count": 158,
   "metadata": {},
   "outputs": [
    {
     "data": {
      "text/plain": [
       "(Text(0.5, 0, 'theta'), Text(0, 0.5, 'p(theta)'))"
      ]
     },
     "execution_count": 158,
     "metadata": {},
     "output_type": "execute_result"
    },
    {
     "data": {
      "image/png": "[encoded data removed]",
      "text/plain": [
       "<Figure size 432x288 with 1 Axes>"
      ]
     },
     "metadata": {
      "needs_background": "light"
     },
     "output_type": "display_data"
    }
   ],
   "source": [
    "# Now plot the new distribition and some statistics\n",
    "def compute_q(mu_t, var_t, alpha_t, theta):\n",
    "    q = np.exp(-0.5*(mu_t[0]-theta)**2/var_t[0])/np.sqrt(2*np.pi*var_t[0])\n",
    "    for i in range(len(mu_t)-1):\n",
    "        q = alpha_t[i+1]*np.exp(-0.5*(mu_t[i+1]-theta)**2/var_t[i+1])/np.sqrt(2*np.pi*var_t[i+1])+(1-alpha_t[i+1])*q\n",
    "    return q\n",
    "\n",
    "theta_v = np.linspace(l_bound, r_bound, 1000)\n",
    "bayes_post_v = np.zeros(np.shape(theta_v))\n",
    "ffvi_post_v = np.zeros(np.shape(theta_v))\n",
    "bvi_post_v = np.zeros(np.shape(theta_v))\n",
    "for i in range(len(theta_v)):\n",
    "    bayes_post_v[i] = np.exp(logLike(y_d, theta_v[i], model))*prior(theta_v[i])\n",
    "    ffvi_post_v[i] = np.exp(-0.5*((theta_v[i]-res.x[0])**2/res.x[1]))/np.sqrt(2*np.pi*res.x[1])\n",
    "    bvi_post_v[i] = compute_q(mu_t, var_t, alpha_t, theta_v[i])\n",
    "     \n",
    "dtheta = theta_v[1]-theta_v[0]\n",
    "Z = np.sum(0.5*(bayes_post_v[:-1]+bayes_post_v[1:]))*dtheta\n",
    "\n",
    "bayes_post_v = bayes_post_v/Z # normalize\n",
    "        \n",
    "plt.figure(4)\n",
    "plt.plot(theta_v, bayes_post_v, label=\"Bayesian Posterior\")\n",
    "plt.plot(theta_v, ffvi_post_v, label=\"FFVI Posterior\")\n",
    "plt.plot(theta_v, bvi_post_v, label=\"BVI Posterior\")\n",
    "plt.plot(np.array([mu_d, mu_d]), np.array([0, np.max(bayes_post_v)]), 'k--', label = r'$\\theta^*$')\n",
    "\n",
    "plt.legend()\n",
    "plt.xlabel(\"theta\"), plt.ylabel(\"p(theta)\")"
   ]
  },
  {
   "cell_type": "markdown",
   "metadata": {},
   "source": [
    "## Normalizing Flows\n",
    "\n",
    "\n"
   ]
  },
  {
   "cell_type": "code",
   "execution_count": 159,
   "metadata": {},
   "outputs": [],
   "source": [
    "# we first create the base inference network\n",
    "\n",
    "class encoder(nn.Sequential):\n",
    "    def __init__(self, layers, nodes, act):\n",
    "        super(encoder, self).__init__()\n",
    "        \n",
    "        self.add_module('full_conn0', nn.Linear(1, nodes))\n",
    "        self.add_module('act0', act)\n",
    "        for i in range(layers-1):\n",
    "            self.add_module('full_conn%d'%(i+1), nn.Linear(nodes, nodes))\n",
    "            self.add_module('act%d'%(i+1), act)\n",
    "\n",
    "        \n",
    "        self.add_module('full_conn%d'%(layers), nn.Linear(nodes, 1))\n",
    "\n",
    "# now the decoding network (mirrors the encoder)\n",
    "\n",
    "class decoder(nn.Sequential):\n",
    "    def __init__(self, layers, nodes, act):\n",
    "        super(decoder, self).__init__()\n",
    "        \n",
    "        self.add_module('full_conn0', nn.Linear(1, nodes))\n",
    "        self.add_module('act0', act)\n",
    "        for i in range(layers-1):\n",
    "            self.add_module('full_conn%d'%(i+1), nn.Linear(nodes, nodes))\n",
    "            self.add_module('act%d'%(i+1), act)\n",
    "\n",
    "        \n",
    "        self.add_module('full_conn%d'%(layers), nn.Linear(nodes, 1))\n",
    "    \n",
    "\n",
    "# now define the flow layers\n",
    "\n",
    "class PlanarFlow(nn.Module):\n",
    "    def __init__(self, D):\n",
    "        super().__init__()\n",
    "        act = torch.tanh\n",
    "        self.D = D\n",
    "        self.w = nn.Parameter(torch.empty(D))\n",
    "        self.b = nn.Parameter(torch.empty(1))\n",
    "        self.u = nn.Parameter(torch.empty(D))\n",
    "        self.act = act\n",
    "        self.act_deriv = lambda x: 1 - torch.tanh(x)**2\n",
    "        \n",
    "        nn.init.normal_(self.w)\n",
    "        nn.init.normal_(self.u)\n",
    "        nn.init.normal_(self.b)\n",
    "        \n",
    "    def forward(self, z):\n",
    "        dot = torch.sum(self.w*self.u)\n",
    "        u = self.u + (torch.log(1+torch.exp(dot))-1-dot)*self.w/torch.sum(self.w**2) \n",
    "        lin = (z @ self.w + self.b).unsqueeze(1)\n",
    "        f = z + u * self.act(lin)\n",
    "        phi = self.act_deriv(lin) * self.w\n",
    "        log_det = torch.log(torch.abs(1+phi@u))\n",
    "        \n",
    "        return f, log_det\n",
    "\n",
    "class RadialFlow(nn.Module):\n",
    "    def __init__(self, D):\n",
    "        super().__init__()\n",
    "        \n",
    "        self.D = D\n",
    "        self.z0 = nn.Parameter(torch.empty(D))\n",
    "        self.beta = nn.Parameter(torch.empty(1))\n",
    "        self.alpha = nn.Parameter(torch.empty(1))\n",
    "        \n",
    "        nn.init.normal_(self.z0)\n",
    "        nn.init.normal_(self.alpha)\n",
    "        nn.init.normal_(self.beta)\n",
    "        \n",
    "    def forward(self, z):\n",
    "        beta = torch.log(1+torch.exp(self.beta)) - torch.abs(self.alpha) # to ensure layer is invertible\n",
    "        r = torch.linalg.vector_norm(z - self.z0, dim = 1)\n",
    "\n",
    "        h = beta / (torch.abs(self.alpha) + r)\n",
    "        h_prime = -beta * r / (torch.abs(self.alpha)+r) ** 2\n",
    "        f = z + h.unsqueeze(1)*(z-self.z0)\n",
    "\n",
    "        log_det = (self.D-1) * torch.log(1+h) \\\n",
    "                  + torch.log(1+h+h_prime)       \n",
    "        return f, log_det \n",
    "    \n",
    "    \n",
    "class TrueDecoder(nn.Module):\n",
    "    def __init__(self):\n",
    "        super().__init__()\n",
    "        \n",
    "    def forward(self, z):\n",
    "        a = 1.0\n",
    "        z1 = z + 0.\n",
    "        z2 = z + 0.\n",
    "        z1[z1<a] = 0\n",
    "        z2[z2>-a] = 0\n",
    "        return z1+z2"
   ]
  },
  {
   "cell_type": "code",
   "execution_count": 160,
   "metadata": {},
   "outputs": [],
   "source": [
    "# now we can define our model\n",
    "\n",
    "class NormalizingFlowVI(nn.Module):\n",
    "    def __init__(self, layers, nodes, flow_layers, act=nn.ReLU()):\n",
    "        super().__init__()\n",
    "        \n",
    "        self.encoder_mean = encoder(layers, nodes, act)\n",
    "        self.encoder_logvar = encoder(layers, nodes, act)\n",
    "        self.decoder_mean = TrueDecoder() # decoder(layers, nodes, act)\n",
    "        self.decoder_logvar = nn.Parameter(torch.empty(1))\n",
    "        \n",
    "        self.flow = nn.Sequential()\n",
    "        #self.flow.add_module('identity', nn.Identity())\n",
    "        for i in range(flow_layers):\n",
    "            self.flow.add_module('flow%d'%(i+1), PlanarFlow(1))\n",
    "    \n",
    "    def forward(self, x):\n",
    "\n",
    "        batch_size = x.shape[0]\n",
    "        zmu, zlogvar = self.encoder_mean(x), self.encoder_logvar(x)\n",
    "        sigma = torch.exp(0.5*zlogvar)\n",
    "        z = self._reparameterize(zmu, zlogvar)\n",
    "        z0 = z.clone()\n",
    "        \n",
    "        log_prob_z0 = torch.sum( \\\n",
    "                        -0.5 * torch.log(torch.tensor(2*math.pi)) - \\\n",
    "                            zlogvar - 0.5 * ((z-zmu)/sigma) ** 2, axis = 1)\n",
    "        \n",
    "        log_det = torch.zeros((batch_size,))\n",
    "        for layer in self.flow:\n",
    "            z, ld = layer(z)\n",
    "            log_det += ld\n",
    "         \n",
    "        log_prob_zk = torch.sum(-0.5 * (torch.log(torch.tensor(2*math.pi)) + z**2), axis = 1)\n",
    "        \n",
    "        xmu = self.decoder_mean(z)\n",
    "        \n",
    "        log_px_zk = torch.sum(self.gaussian_log_prob(x, xmu, self.decoder_logvar), 1)\n",
    "        \n",
    "        return z0, zmu, zlogvar, z, xmu, self.decoder_logvar, \\\n",
    "               log_prob_z0, log_det, log_prob_zk, log_px_zk \n",
    "    \n",
    "    def _reparameterize(self, mu, logvar):\n",
    "        std = logvar.mul(0.5).exp_()\n",
    "        eps = torch.randn(*mu.size()).type_as(mu)\n",
    "        return mu + std * eps\n",
    "    \n",
    "    def gaussian_log_prob(self, x, mu, logvar):\n",
    "        return -0.5*(math.log(2*math.pi) + logvar + (x-mu)**2/torch.exp(logvar))\n",
    "    \n",
    "class Flow(nn.Module):\n",
    "    def __init__(self, flow_layers, act=nn.ReLU()):\n",
    "        super().__init__()\n",
    "        \n",
    "        self.flow = nn.Sequential()\n",
    "        #self.flow.add_module('identity', nn.Identity())\n",
    "        for i in range(flow_layers):\n",
    "            #if np.mod(i, 2)==0:\n",
    "            self.flow.add_module('flow%d'%(i+1), PlanarFlow(1))\n",
    "            #else:\n",
    "            #self.flow.add_module('flow%d'%(i+1), RadialFlow(1))\n",
    "\n",
    "    \n",
    "    def forward(self, zmu, zlogvar):\n",
    "        batch_size = zmu.shape[0]\n",
    "        sigma = torch.exp(0.5*zlogvar)\n",
    "        z = self._reparameterize(zmu, zlogvar)\n",
    "        z0 = z.clone()\n",
    "        \n",
    "        log_prob_z0 = torch.sum( \\\n",
    "                        -0.5 * torch.log(torch.tensor(2*math.pi)) - \\\n",
    "                            zlogvar - 0.5 * ((z-zmu)/sigma) ** 2, axis = 1)\n",
    "        \n",
    "        log_det = torch.zeros((batch_size,))\n",
    "        for layer in self.flow:\n",
    "            z, ld = layer(z)\n",
    "            log_det += ld\n",
    "         \n",
    "        log_prob_zk = torch.sum(-0.5 * (torch.log(torch.tensor(2*math.pi)) + z**2), axis = 1) # prior of N(0,1)\n",
    "        \n",
    "        return z0, zmu, zlogvar, z, \\\n",
    "               log_prob_z0, log_det, log_prob_zk\n",
    "    \n",
    "    def _reparameterize(self, mu, logvar):\n",
    "        std = logvar.mul(0.5).exp_()\n",
    "        eps = torch.randn(*mu.size()).type_as(mu)\n",
    "        return mu + std * eps\n",
    "    \n",
    "    def gaussian_log_prob(self, x, mu, logvar):\n",
    "        return -0.5*(math.log(2*math.pi) + logvar + (x-mu)**2/torch.exp(logvar))"
   ]
  },
  {
   "cell_type": "code",
   "execution_count": 185,
   "metadata": {},
   "outputs": [
    {
     "name": "stdout",
     "output_type": "stream",
     "text": [
      "Epoch:  0\n",
      "Loss:  70429.484\n"
     ]
    },
    {
     "ename": "KeyboardInterrupt",
     "evalue": "",
     "output_type": "error",
     "traceback": [
      "\u001b[1;31m---------------------------------------------------------------------------\u001b[0m",
      "\u001b[1;31mKeyboardInterrupt\u001b[0m                         Traceback (most recent call last)",
      "\u001b[1;32m<ipython-input-185-a63caf44a872>\u001b[0m in \u001b[0;36m<module>\u001b[1;34m\u001b[0m\n\u001b[0;32m     45\u001b[0m         \u001b[1;31m#print(np.shape(lpz0-lpzk-ld-lr))\u001b[0m\u001b[1;33m\u001b[0m\u001b[1;33m\u001b[0m\u001b[1;33m\u001b[0m\u001b[0m\n\u001b[0;32m     46\u001b[0m \u001b[1;33m\u001b[0m\u001b[0m\n\u001b[1;32m---> 47\u001b[1;33m         \u001b[0mloss\u001b[0m\u001b[1;33m.\u001b[0m\u001b[0mbackward\u001b[0m\u001b[1;33m(\u001b[0m\u001b[1;33m)\u001b[0m\u001b[1;33m\u001b[0m\u001b[1;33m\u001b[0m\u001b[0m\n\u001b[0m\u001b[0;32m     48\u001b[0m         \u001b[0moptimizer\u001b[0m\u001b[1;33m.\u001b[0m\u001b[0mstep\u001b[0m\u001b[1;33m(\u001b[0m\u001b[1;33m)\u001b[0m\u001b[1;33m\u001b[0m\u001b[1;33m\u001b[0m\u001b[0m\n\u001b[0;32m     49\u001b[0m \u001b[1;33m\u001b[0m\u001b[0m\n",
      "\u001b[1;32m~\\Anaconda3\\lib\\site-packages\\torch\\_tensor.py\u001b[0m in \u001b[0;36mbackward\u001b[1;34m(self, gradient, retain_graph, create_graph, inputs)\u001b[0m\n\u001b[0;32m    253\u001b[0m                 \u001b[0mcreate_graph\u001b[0m\u001b[1;33m=\u001b[0m\u001b[0mcreate_graph\u001b[0m\u001b[1;33m,\u001b[0m\u001b[1;33m\u001b[0m\u001b[1;33m\u001b[0m\u001b[0m\n\u001b[0;32m    254\u001b[0m                 inputs=inputs)\n\u001b[1;32m--> 255\u001b[1;33m         \u001b[0mtorch\u001b[0m\u001b[1;33m.\u001b[0m\u001b[0mautograd\u001b[0m\u001b[1;33m.\u001b[0m\u001b[0mbackward\u001b[0m\u001b[1;33m(\u001b[0m\u001b[0mself\u001b[0m\u001b[1;33m,\u001b[0m \u001b[0mgradient\u001b[0m\u001b[1;33m,\u001b[0m \u001b[0mretain_graph\u001b[0m\u001b[1;33m,\u001b[0m \u001b[0mcreate_graph\u001b[0m\u001b[1;33m,\u001b[0m \u001b[0minputs\u001b[0m\u001b[1;33m=\u001b[0m\u001b[0minputs\u001b[0m\u001b[1;33m)\u001b[0m\u001b[1;33m\u001b[0m\u001b[1;33m\u001b[0m\u001b[0m\n\u001b[0m\u001b[0;32m    256\u001b[0m \u001b[1;33m\u001b[0m\u001b[0m\n\u001b[0;32m    257\u001b[0m     \u001b[1;32mdef\u001b[0m \u001b[0mregister_hook\u001b[0m\u001b[1;33m(\u001b[0m\u001b[0mself\u001b[0m\u001b[1;33m,\u001b[0m \u001b[0mhook\u001b[0m\u001b[1;33m)\u001b[0m\u001b[1;33m:\u001b[0m\u001b[1;33m\u001b[0m\u001b[1;33m\u001b[0m\u001b[0m\n",
      "\u001b[1;32m~\\Anaconda3\\lib\\site-packages\\torch\\autograd\\__init__.py\u001b[0m in \u001b[0;36mbackward\u001b[1;34m(tensors, grad_tensors, retain_graph, create_graph, grad_variables, inputs)\u001b[0m\n\u001b[0;32m    147\u001b[0m     Variable._execution_engine.run_backward(\n\u001b[0;32m    148\u001b[0m         \u001b[0mtensors\u001b[0m\u001b[1;33m,\u001b[0m \u001b[0mgrad_tensors_\u001b[0m\u001b[1;33m,\u001b[0m \u001b[0mretain_graph\u001b[0m\u001b[1;33m,\u001b[0m \u001b[0mcreate_graph\u001b[0m\u001b[1;33m,\u001b[0m \u001b[0minputs\u001b[0m\u001b[1;33m,\u001b[0m\u001b[1;33m\u001b[0m\u001b[1;33m\u001b[0m\u001b[0m\n\u001b[1;32m--> 149\u001b[1;33m         allow_unreachable=True, accumulate_grad=True)  # allow_unreachable flag\n\u001b[0m\u001b[0;32m    150\u001b[0m \u001b[1;33m\u001b[0m\u001b[0m\n\u001b[0;32m    151\u001b[0m \u001b[1;33m\u001b[0m\u001b[0m\n",
      "\u001b[1;31mKeyboardInterrupt\u001b[0m: "
     ]
    }
   ],
   "source": [
    "# now load the data and train the model\n",
    "\n",
    "flow_layers = 50\n",
    "\n",
    "zmu = 0\n",
    "zlogvar = 0\n",
    "\n",
    "C_D = np.var(y_d)\n",
    "\n",
    "batch_size = n_samples // 1\n",
    "epochs = 50000\n",
    "\n",
    "ForwardModel = TrueDecoder()\n",
    "\n",
    "Y = y_d + 0.\n",
    "Y = np.reshape(Y, (1, n_samples))\n",
    "Y = np.tile(Y, (n_samples, 1))\n",
    "\n",
    "# process the data\n",
    "dataset = TensorDataset(torch.tensor(theta_d).unsqueeze(1).float(), \\\n",
    "                        torch.tensor(Y).unsqueeze(1).float())\n",
    "data_loader = DataLoader(dataset, batch_size=batch_size, shuffle=True)\n",
    "\n",
    "# initialize the model and optimizer\n",
    "NF = Flow(flow_layers)\n",
    "optimizer = torch.optim.Adam(NF.parameters(), lr=0.0003)\n",
    "\n",
    "# initialize loss list\n",
    "loss_v = np.zeros((epochs,))\n",
    "NF.train()\n",
    "# train\n",
    "for epoch in range(epochs):\n",
    "    for n, (_, y) in enumerate(data_loader):\n",
    "        b = y.shape[0]\n",
    "        \n",
    "        NF.zero_grad()\n",
    "        zMu = zmu*torch.ones((b,1))\n",
    "        zLV = zlogvar*torch.ones((b,1))\n",
    "        _,_,_,z, lpz0, ld, lpzk = NF.forward(zMu, zLV) \n",
    "        \n",
    "        y_h = ForwardModel(z)\n",
    "        lr = torch.sum(-0.5*((y_h-y)**2/C_D), 1)\n",
    "        \n",
    "        loss = torch.mean(lpz0 - lpzk - ld - lr)\n",
    "        #print(np.shape(lpz0-lpzk-ld-lr))\n",
    "        \n",
    "        loss.backward()\n",
    "        optimizer.step()\n",
    "        \n",
    "    loss_v[epoch] = loss.detach().numpy()\n",
    "        \n",
    "    if np.mod(epoch, epochs//25)==0:\n",
    "        print('Epoch: ', epoch)\n",
    "        print('Loss: ', loss.detach().numpy())\n",
    "        #print('lpz0: ', lpz0)\n",
    "        #print('ld: ', ld)\n",
    "        #print('lpzk: ', lpzk)\n",
    "        #print('lr: ', lr)\n",
    "    \n",
    "    \n",
    "    \n"
   ]
  },
  {
   "cell_type": "code",
   "execution_count": 183,
   "metadata": {
    "scrolled": false
   },
   "outputs": [
    {
     "name": "stdout",
     "output_type": "stream",
     "text": [
      "KL:  50.750213623046875\n",
      "Learned Model:  Flow(\n",
      "  (flow): Sequential(\n",
      "    (flow1): PlanarFlow()\n",
      "    (flow2): PlanarFlow()\n",
      "    (flow3): PlanarFlow()\n",
      "    (flow4): PlanarFlow()\n",
      "    (flow5): PlanarFlow()\n",
      "    (flow6): PlanarFlow()\n",
      "    (flow7): PlanarFlow()\n",
      "    (flow8): PlanarFlow()\n",
      "    (flow9): PlanarFlow()\n",
      "    (flow10): PlanarFlow()\n",
      "    (flow11): PlanarFlow()\n",
      "    (flow12): PlanarFlow()\n",
      "    (flow13): PlanarFlow()\n",
      "    (flow14): PlanarFlow()\n",
      "    (flow15): PlanarFlow()\n",
      "    (flow16): PlanarFlow()\n",
      "    (flow17): PlanarFlow()\n",
      "    (flow18): PlanarFlow()\n",
      "    (flow19): PlanarFlow()\n",
      "    (flow20): PlanarFlow()\n",
      "    (flow21): PlanarFlow()\n",
      "    (flow22): PlanarFlow()\n",
      "    (flow23): PlanarFlow()\n",
      "    (flow24): PlanarFlow()\n",
      "    (flow25): PlanarFlow()\n",
      "    (flow26): PlanarFlow()\n",
      "    (flow27): PlanarFlow()\n",
      "    (flow28): PlanarFlow()\n",
      "    (flow29): PlanarFlow()\n",
      "    (flow30): PlanarFlow()\n",
      "    (flow31): PlanarFlow()\n",
      "    (flow32): PlanarFlow()\n",
      "    (flow33): PlanarFlow()\n",
      "    (flow34): PlanarFlow()\n",
      "    (flow35): PlanarFlow()\n",
      "    (flow36): PlanarFlow()\n",
      "    (flow37): PlanarFlow()\n",
      "    (flow38): PlanarFlow()\n",
      "    (flow39): PlanarFlow()\n",
      "    (flow40): PlanarFlow()\n",
      "    (flow41): PlanarFlow()\n",
      "    (flow42): PlanarFlow()\n",
      "    (flow43): PlanarFlow()\n",
      "    (flow44): PlanarFlow()\n",
      "    (flow45): PlanarFlow()\n",
      "    (flow46): PlanarFlow()\n",
      "    (flow47): PlanarFlow()\n",
      "    (flow48): PlanarFlow()\n",
      "    (flow49): PlanarFlow()\n",
      "    (flow50): PlanarFlow()\n",
      "  )\n",
      ")\n"
     ]
    },
    {
     "data": {
      "image/png": "[encoded data removed]",
      "text/plain": [
       "<Figure size 432x288 with 1 Axes>"
      ]
     },
     "metadata": {
      "needs_background": "light"
     },
     "output_type": "display_data"
    },
    {
     "data": {
      "image/png": "[encoded data removed]",
      "text/plain": [
       "<Figure size 432x288 with 1 Axes>"
      ]
     },
     "metadata": {
      "needs_background": "light"
     },
     "output_type": "display_data"
    },
    {
     "data": {
      "image/png": "[encoded data removed]",
      "text/plain": [
       "<Figure size 432x288 with 1 Axes>"
      ]
     },
     "metadata": {
      "needs_background": "light"
     },
     "output_type": "display_data"
    }
   ],
   "source": [
    "M = 1000\n",
    "zMu = 0*torch.ones((M,1))\n",
    "zLV = 0*torch.ones((M,1))\n",
    "_,_,_,z,_,_,_ = NF.forward(zMu, zLV)\n",
    "\n",
    "y_out = ForwardModel(z)\n",
    "y_out = y_out.detach().numpy()\n",
    "plt.figure(10)\n",
    "plt.plot(z[:,0].detach().numpy(), '.')\n",
    "plt.xlabel('sample')\n",
    "plt.ylabel('z_K')\n",
    "plt.figure(1)\n",
    "plt.plot(y_out[:,0],'.')\n",
    "plt.xlabel('sample')\n",
    "plt.ylabel('f_1(z_K)')\n",
    "plt.figure(2)\n",
    "plt.plot(loss_v)\n",
    "plt.xlabel('epoch')\n",
    "plt.ylabel('Loss')\n",
    "print(\"KL: \", loss_v[-1])\n",
    "print(\"Learned Model: \", NF)"
   ]
  },
  {
   "cell_type": "code",
   "execution_count": 184,
   "metadata": {},
   "outputs": [
    {
     "data": {
      "text/plain": [
       "<matplotlib.legend.Legend at 0x1d0cac56048>"
      ]
     },
     "execution_count": 184,
     "metadata": {},
     "output_type": "execute_result"
    },
    {
     "data": {
      "image/png": "[encoded data removed]",
      "text/plain": [
       "<Figure size 432x288 with 1 Axes>"
      ]
     },
     "metadata": {
      "needs_background": "light"
     },
     "output_type": "display_data"
    },
    {
     "data": {
      "image/png": "[encoded data removed]",
      "text/plain": [
       "<Figure size 432x288 with 1 Axes>"
      ]
     },
     "metadata": {
      "needs_background": "light"
     },
     "output_type": "display_data"
    }
   ],
   "source": [
    "n_s = 1000\n",
    "z_eval = np.linspace(-3.5, 3.5, n_s)\n",
    "z_eval_bayes = np.linspace(l_bound, r_bound, n_s)\n",
    "z_eval_torch = torch.Tensor(z_eval)\n",
    "zmu0 = 0*torch.ones((1,))\n",
    "zlogvar0 = 0*torch.ones((1,))\n",
    "sigma = torch.exp(0.5*zlogvar0)\n",
    "\n",
    "log_prob_z0 = 0\n",
    "\n",
    "zprob = np.zeros(np.shape(z_eval))\n",
    "bayes_post_v = np.zeros(np.shape(z_eval))\n",
    "zk = np.zeros(np.shape(z_eval))\n",
    "for i in range(len(z_eval)):\n",
    "    z = torch.tensor(z_eval[i]).reshape(1,1).float()\n",
    "    log_prob_z0 = -0.5 * torch.log(torch.tensor(2*math.pi)) - \\\n",
    "                            0.5*zlogvar0 - 0.5 * ((z_eval[i]-zmu0)/sigma) ** 2\n",
    "        \n",
    "    log_det = torch.zeros((1,))\n",
    "    for layer in NF.flow:\n",
    "        z, ld = layer(z+0.)\n",
    "        log_det += ld\n",
    "    zk[i] = z\n",
    "    zprob[i] = (torch.sum(log_prob_z0 - log_det).detach().numpy())\n",
    "    bayes_post_v[i] = np.exp(logLike(y_d, z_eval_bayes[i], model))*prior(z_eval_bayes[i])\n",
    "    \n",
    "dtheta = z_eval_bayes[1]-z_eval_bayes[0]\n",
    "Z = np.sum(0.5*(bayes_post_v[:-1]+bayes_post_v[1:]))*dtheta\n",
    "\n",
    "bayes_post_v = bayes_post_v/Z # normalize\n",
    "            \n",
    "# we now sort the NF output\n",
    "sort_inds = np.argsort(zk)\n",
    "zk = zk[sort_inds]\n",
    "zprob = zprob[sort_inds]\n",
    "    \n",
    "# now normalize the posterior (not log posterior)\n",
    "nf_post = np.exp(zprob-3.00e0)\n",
    "Z = np.sum(0.5*(nf_post[:-1]+nf_post[1:])*np.diff(zk))\n",
    "nf_post = nf_post/Z\n",
    "\n",
    "# clip the output for better plotting\n",
    "#nf_post[nf_post > 3.0*np.max(bayes_post_v)] = 3.0*np.max(bayes_post_v)\n",
    "\n",
    "plt.figure(1)\n",
    "plt.plot(zk, zprob)\n",
    "plt.figure(2)\n",
    "plt.plot(z_eval_bayes, bayes_post_v, label=\"Bayesian Posterior\")\n",
    "plt.plot(theta_v, ffvi_post_v, label=\"FFVI Posterior\")\n",
    "plt.plot(zk, nf_post, label=\"NF Posterior\")\n",
    "plt.plot(np.array([mu_d, mu_d]), np.array([0, np.max(bayes_post_v)]), 'k--', label = r'$\\theta^*$')\n",
    "\n",
    "\n",
    "plt.legend()\n",
    "\n"
   ]
  },
  {
   "cell_type": "code",
   "execution_count": 135,
   "metadata": {},
   "outputs": [
    {
     "name": "stdout",
     "output_type": "stream",
     "text": [
      "[[-0.15815297]\n",
      " [-1.20592608]]\n",
      "[[1. 1. 1.]\n",
      " [1. 1. 1.]]\n",
      "[[1.15815297 1.15815297 1.15815297]\n",
      " [2.20592608 2.20592608 2.20592608]]\n"
     ]
    }
   ],
   "source": [
    "x = np.random.normal(0, 1, (2, 1))\n",
    "A = np.ones((2, 3))\n",
    "print(x)\n",
    "print(A)\n",
    "print(A-x)"
   ]
  },
  {
   "cell_type": "code",
   "execution_count": null,
   "metadata": {},
   "outputs": [],
   "source": []
  }
 ],
 "metadata": {
  "kernelspec": {
   "display_name": "Python 3",
   "language": "python",
   "name": "python3"
  },
  "language_info": {
   "codemirror_mode": {
    "name": "ipython",
    "version": 3
   },
   "file_extension": ".py",
   "mimetype": "text/x-python",
   "name": "python",
   "nbconvert_exporter": "python",
   "pygments_lexer": "ipython3",
   "version": "3.7.4"
  }
 },
 "nbformat": 4,
 "nbformat_minor": 5
}
